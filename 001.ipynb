{
 "cells": [
  {
   "cell_type": "markdown",
   "id": "d81c8ae1",
   "metadata": {},
   "source": [
    "# Structured Data"
   ]
  },
  {
   "cell_type": "markdown",
   "id": "72939919",
   "metadata": {},
   "source": [
    "## Problem 1"
   ]
  },
  {
   "cell_type": "markdown",
   "id": "8a4c9e6a",
   "metadata": {},
   "source": [
    "### Summary"
   ]
  },
  {
   "cell_type": "markdown",
   "id": "45687a19",
   "metadata": {},
   "source": [
    "* Create a positive set based on patients who have taken \"Target Drug\" and a negative set considering the time aspect, with features like prescription frequency and time intervals to predict eligibility 30 days in advance.\n",
    "\n",
    "* Develop and evaluate the model on a validation set, focusing on strategies to minimize false positives and false negatives, ultimately prioritizing F1-Score as the evaluation metric.\n",
    "\n",
    "* Apply the trained model to make predictions for patients in the test dataset, labeling them as 1 or 0 for eligibility, and submit the final predictions in a CSV file for assessment."
   ]
  },
  {
   "cell_type": "code",
   "execution_count": 1,
   "id": "19364bff",
   "metadata": {},
   "outputs": [],
   "source": [
    "#Importing required libraries\n",
    "import pandas as pd\n",
    "import numpy as np\n",
    "import matplotlib.pyplot as plt\n",
    "from datetime import datetime, timedelta\n",
    "from sklearn.model_selection import train_test_split\n",
    "from sklearn.metrics import confusion_matrix, classification_report, f1_score, roc_curve, auc, accuracy_score\n",
    "from sklearn.linear_model import LogisticRegression\n",
    "from xgboost import XGBClassifier\n",
    "import xgboost as xgb\n",
    "import warnings"
   ]
  },
  {
   "cell_type": "code",
   "execution_count": 2,
   "id": "6a889684",
   "metadata": {},
   "outputs": [],
   "source": [
    "#Ignore warnings\n",
    "warnings.filterwarnings(\"ignore\")"
   ]
  },
  {
   "cell_type": "code",
   "execution_count": 3,
   "id": "8cda9a30",
   "metadata": {},
   "outputs": [],
   "source": [
    "#Loading dataset-  Train\n",
    "train_df = pd.read_parquet(\"train.parquet\")"
   ]
  },
  {
   "cell_type": "code",
   "execution_count": 4,
   "id": "f333a953",
   "metadata": {},
   "outputs": [
    {
     "data": {
      "text/html": [
       "<div>\n",
       "<style scoped>\n",
       "    .dataframe tbody tr th:only-of-type {\n",
       "        vertical-align: middle;\n",
       "    }\n",
       "\n",
       "    .dataframe tbody tr th {\n",
       "        vertical-align: top;\n",
       "    }\n",
       "\n",
       "    .dataframe thead th {\n",
       "        text-align: right;\n",
       "    }\n",
       "</style>\n",
       "<table border=\"1\" class=\"dataframe\">\n",
       "  <thead>\n",
       "    <tr style=\"text-align: right;\">\n",
       "      <th></th>\n",
       "      <th>Patient-Uid</th>\n",
       "      <th>Date</th>\n",
       "      <th>Incident</th>\n",
       "    </tr>\n",
       "  </thead>\n",
       "  <tbody>\n",
       "    <tr>\n",
       "      <th>0</th>\n",
       "      <td>a0db1e73-1c7c-11ec-ae39-16262ee38c7f</td>\n",
       "      <td>2019-03-09</td>\n",
       "      <td>PRIMARY_DIAGNOSIS</td>\n",
       "    </tr>\n",
       "    <tr>\n",
       "      <th>1</th>\n",
       "      <td>a0dc93f2-1c7c-11ec-9cd2-16262ee38c7f</td>\n",
       "      <td>2015-05-16</td>\n",
       "      <td>PRIMARY_DIAGNOSIS</td>\n",
       "    </tr>\n",
       "    <tr>\n",
       "      <th>3</th>\n",
       "      <td>a0dc94c6-1c7c-11ec-a3a0-16262ee38c7f</td>\n",
       "      <td>2018-01-30</td>\n",
       "      <td>SYMPTOM_TYPE_0</td>\n",
       "    </tr>\n",
       "    <tr>\n",
       "      <th>4</th>\n",
       "      <td>a0dc950b-1c7c-11ec-b6ec-16262ee38c7f</td>\n",
       "      <td>2015-04-22</td>\n",
       "      <td>DRUG_TYPE_0</td>\n",
       "    </tr>\n",
       "    <tr>\n",
       "      <th>8</th>\n",
       "      <td>a0dc9543-1c7c-11ec-bb63-16262ee38c7f</td>\n",
       "      <td>2016-06-18</td>\n",
       "      <td>DRUG_TYPE_1</td>\n",
       "    </tr>\n",
       "  </tbody>\n",
       "</table>\n",
       "</div>"
      ],
      "text/plain": [
       "                            Patient-Uid       Date           Incident\n",
       "0  a0db1e73-1c7c-11ec-ae39-16262ee38c7f 2019-03-09  PRIMARY_DIAGNOSIS\n",
       "1  a0dc93f2-1c7c-11ec-9cd2-16262ee38c7f 2015-05-16  PRIMARY_DIAGNOSIS\n",
       "3  a0dc94c6-1c7c-11ec-a3a0-16262ee38c7f 2018-01-30     SYMPTOM_TYPE_0\n",
       "4  a0dc950b-1c7c-11ec-b6ec-16262ee38c7f 2015-04-22        DRUG_TYPE_0\n",
       "8  a0dc9543-1c7c-11ec-bb63-16262ee38c7f 2016-06-18        DRUG_TYPE_1"
      ]
     },
     "execution_count": 4,
     "metadata": {},
     "output_type": "execute_result"
    }
   ],
   "source": [
    "#Fetching top 5 rows\n",
    "train_df.head()"
   ]
  },
  {
   "cell_type": "code",
   "execution_count": 5,
   "id": "40261bf3",
   "metadata": {},
   "outputs": [
    {
     "data": {
      "text/html": [
       "<div>\n",
       "<style scoped>\n",
       "    .dataframe tbody tr th:only-of-type {\n",
       "        vertical-align: middle;\n",
       "    }\n",
       "\n",
       "    .dataframe tbody tr th {\n",
       "        vertical-align: top;\n",
       "    }\n",
       "\n",
       "    .dataframe thead th {\n",
       "        text-align: right;\n",
       "    }\n",
       "</style>\n",
       "<table border=\"1\" class=\"dataframe\">\n",
       "  <thead>\n",
       "    <tr style=\"text-align: right;\">\n",
       "      <th></th>\n",
       "      <th>Patient-Uid</th>\n",
       "      <th>Date</th>\n",
       "      <th>Incident</th>\n",
       "    </tr>\n",
       "  </thead>\n",
       "  <tbody>\n",
       "    <tr>\n",
       "      <th>29080886</th>\n",
       "      <td>a0ee9f75-1c7c-11ec-94c7-16262ee38c7f</td>\n",
       "      <td>2018-07-06</td>\n",
       "      <td>DRUG_TYPE_6</td>\n",
       "    </tr>\n",
       "    <tr>\n",
       "      <th>29080897</th>\n",
       "      <td>a0ee1284-1c7c-11ec-a3d5-16262ee38c7f</td>\n",
       "      <td>2017-12-29</td>\n",
       "      <td>DRUG_TYPE_6</td>\n",
       "    </tr>\n",
       "    <tr>\n",
       "      <th>29080900</th>\n",
       "      <td>a0ee9b26-1c7c-11ec-8a40-16262ee38c7f</td>\n",
       "      <td>2018-10-18</td>\n",
       "      <td>DRUG_TYPE_10</td>\n",
       "    </tr>\n",
       "    <tr>\n",
       "      <th>29080903</th>\n",
       "      <td>a0ee1a92-1c7c-11ec-8341-16262ee38c7f</td>\n",
       "      <td>2015-09-18</td>\n",
       "      <td>DRUG_TYPE_6</td>\n",
       "    </tr>\n",
       "    <tr>\n",
       "      <th>29080911</th>\n",
       "      <td>a0ee146e-1c7c-11ec-baee-16262ee38c7f</td>\n",
       "      <td>2018-10-05</td>\n",
       "      <td>DRUG_TYPE_1</td>\n",
       "    </tr>\n",
       "  </tbody>\n",
       "</table>\n",
       "</div>"
      ],
      "text/plain": [
       "                                   Patient-Uid       Date      Incident\n",
       "29080886  a0ee9f75-1c7c-11ec-94c7-16262ee38c7f 2018-07-06   DRUG_TYPE_6\n",
       "29080897  a0ee1284-1c7c-11ec-a3d5-16262ee38c7f 2017-12-29   DRUG_TYPE_6\n",
       "29080900  a0ee9b26-1c7c-11ec-8a40-16262ee38c7f 2018-10-18  DRUG_TYPE_10\n",
       "29080903  a0ee1a92-1c7c-11ec-8341-16262ee38c7f 2015-09-18   DRUG_TYPE_6\n",
       "29080911  a0ee146e-1c7c-11ec-baee-16262ee38c7f 2018-10-05   DRUG_TYPE_1"
      ]
     },
     "execution_count": 5,
     "metadata": {},
     "output_type": "execute_result"
    }
   ],
   "source": [
    "#Fetching bottom 5 rows\n",
    "train_df.tail()"
   ]
  },
  {
   "cell_type": "code",
   "execution_count": 6,
   "id": "481241e6",
   "metadata": {},
   "outputs": [
    {
     "data": {
      "text/plain": [
       "(3220868, 3)"
      ]
     },
     "execution_count": 6,
     "metadata": {},
     "output_type": "execute_result"
    }
   ],
   "source": [
    "#Analysing data\n",
    "train_df.shape"
   ]
  },
  {
   "cell_type": "code",
   "execution_count": 7,
   "id": "3c1ad538",
   "metadata": {},
   "outputs": [
    {
     "data": {
      "text/plain": [
       "Index(['Patient-Uid', 'Date', 'Incident'], dtype='object')"
      ]
     },
     "execution_count": 7,
     "metadata": {},
     "output_type": "execute_result"
    }
   ],
   "source": [
    "#Columns in the dataset\n",
    "train_df.columns"
   ]
  },
  {
   "cell_type": "code",
   "execution_count": 8,
   "id": "28733c37",
   "metadata": {},
   "outputs": [
    {
     "data": {
      "text/html": [
       "<div>\n",
       "<style scoped>\n",
       "    .dataframe tbody tr th:only-of-type {\n",
       "        vertical-align: middle;\n",
       "    }\n",
       "\n",
       "    .dataframe tbody tr th {\n",
       "        vertical-align: top;\n",
       "    }\n",
       "\n",
       "    .dataframe thead th {\n",
       "        text-align: right;\n",
       "    }\n",
       "</style>\n",
       "<table border=\"1\" class=\"dataframe\">\n",
       "  <thead>\n",
       "    <tr style=\"text-align: right;\">\n",
       "      <th></th>\n",
       "      <th>Date</th>\n",
       "    </tr>\n",
       "  </thead>\n",
       "  <tbody>\n",
       "    <tr>\n",
       "      <th>count</th>\n",
       "      <td>3220868</td>\n",
       "    </tr>\n",
       "    <tr>\n",
       "      <th>mean</th>\n",
       "      <td>2018-02-24 18:27:44.495410944</td>\n",
       "    </tr>\n",
       "    <tr>\n",
       "      <th>min</th>\n",
       "      <td>2015-04-07 00:00:00</td>\n",
       "    </tr>\n",
       "    <tr>\n",
       "      <th>25%</th>\n",
       "      <td>2016-11-30 00:00:00</td>\n",
       "    </tr>\n",
       "    <tr>\n",
       "      <th>50%</th>\n",
       "      <td>2018-04-11 00:00:00</td>\n",
       "    </tr>\n",
       "    <tr>\n",
       "      <th>75%</th>\n",
       "      <td>2019-05-30 00:00:00</td>\n",
       "    </tr>\n",
       "    <tr>\n",
       "      <th>max</th>\n",
       "      <td>2020-09-03 00:00:00</td>\n",
       "    </tr>\n",
       "  </tbody>\n",
       "</table>\n",
       "</div>"
      ],
      "text/plain": [
       "                                Date\n",
       "count                        3220868\n",
       "mean   2018-02-24 18:27:44.495410944\n",
       "min              2015-04-07 00:00:00\n",
       "25%              2016-11-30 00:00:00\n",
       "50%              2018-04-11 00:00:00\n",
       "75%              2019-05-30 00:00:00\n",
       "max              2020-09-03 00:00:00"
      ]
     },
     "execution_count": 8,
     "metadata": {},
     "output_type": "execute_result"
    }
   ],
   "source": [
    "#Descriptive statistics\n",
    "train_df.describe()"
   ]
  },
  {
   "cell_type": "code",
   "execution_count": 9,
   "id": "5651f085",
   "metadata": {},
   "outputs": [
    {
     "data": {
      "text/plain": [
       "Patient-Uid    0\n",
       "Date           0\n",
       "Incident       0\n",
       "dtype: int64"
      ]
     },
     "execution_count": 9,
     "metadata": {},
     "output_type": "execute_result"
    }
   ],
   "source": [
    "#Data Pre-Processing\n",
    "#Missing Values\n",
    "train_df.isnull().sum()"
   ]
  },
  {
   "cell_type": "code",
   "execution_count": 10,
   "id": "cd96d6f2",
   "metadata": {},
   "outputs": [],
   "source": [
    "#Remove duplicates\n",
    "train_df = train_df.drop_duplicates()"
   ]
  },
  {
   "cell_type": "code",
   "execution_count": 11,
   "id": "08a5bb6f",
   "metadata": {},
   "outputs": [
    {
     "data": {
      "text/plain": [
       "0"
      ]
     },
     "execution_count": 11,
     "metadata": {},
     "output_type": "execute_result"
    }
   ],
   "source": [
    "#Checking for duplicate values\n",
    "train_df.duplicated().sum()"
   ]
  },
  {
   "cell_type": "code",
   "execution_count": 12,
   "id": "7d6194ea",
   "metadata": {},
   "outputs": [
    {
     "data": {
      "text/plain": [
       "Patient-Uid            object\n",
       "Date           datetime64[ns]\n",
       "Incident               object\n",
       "dtype: object"
      ]
     },
     "execution_count": 12,
     "metadata": {},
     "output_type": "execute_result"
    }
   ],
   "source": [
    "#Data types\n",
    "train_df.dtypes"
   ]
  },
  {
   "cell_type": "code",
   "execution_count": 13,
   "id": "20362388",
   "metadata": {},
   "outputs": [
    {
     "name": "stdout",
     "output_type": "stream",
     "text": [
      "Unique values of Incident \n",
      "\n",
      "['PRIMARY_DIAGNOSIS' 'SYMPTOM_TYPE_0' 'DRUG_TYPE_0' 'DRUG_TYPE_1'\n",
      " 'DRUG_TYPE_2' 'TEST_TYPE_0' 'DRUG_TYPE_3' 'DRUG_TYPE_4' 'DRUG_TYPE_5'\n",
      " 'DRUG_TYPE_6' 'DRUG_TYPE_8' 'DRUG_TYPE_7' 'SYMPTOM_TYPE_1' 'DRUG_TYPE_10'\n",
      " 'SYMPTOM_TYPE_29' 'SYMPTOM_TYPE_2' 'DRUG_TYPE_11' 'DRUG_TYPE_9'\n",
      " 'DRUG_TYPE_13' 'SYMPTOM_TYPE_5' 'TEST_TYPE_1' 'SYMPTOM_TYPE_6'\n",
      " 'TEST_TYPE_2' 'SYMPTOM_TYPE_3' 'SYMPTOM_TYPE_8' 'DRUG_TYPE_14'\n",
      " 'DRUG_TYPE_12' 'SYMPTOM_TYPE_9' 'SYMPTOM_TYPE_10' 'SYMPTOM_TYPE_7'\n",
      " 'SYMPTOM_TYPE_11' 'TEST_TYPE_3' 'DRUG_TYPE_15' 'SYMPTOM_TYPE_4'\n",
      " 'SYMPTOM_TYPE_14' 'SYMPTOM_TYPE_13' 'SYMPTOM_TYPE_16' 'SYMPTOM_TYPE_17'\n",
      " 'SYMPTOM_TYPE_15' 'SYMPTOM_TYPE_18' 'SYMPTOM_TYPE_12' 'SYMPTOM_TYPE_20'\n",
      " 'SYMPTOM_TYPE_21' 'DRUG_TYPE_17' 'SYMPTOM_TYPE_22' 'TEST_TYPE_4'\n",
      " 'SYMPTOM_TYPE_23' 'DRUG_TYPE_16' 'TEST_TYPE_5' 'SYMPTOM_TYPE_19'\n",
      " 'SYMPTOM_TYPE_24' 'SYMPTOM_TYPE_25' 'SYMPTOM_TYPE_26' 'SYMPTOM_TYPE_27'\n",
      " 'DRUG_TYPE_18' 'SYMPTOM_TYPE_28' 'TARGET DRUG']\n"
     ]
    }
   ],
   "source": [
    "#Unique values of incident column\n",
    "print(\"Unique values of Incident \\n\")\n",
    "print(train_df['Incident'].unique())"
   ]
  },
  {
   "cell_type": "code",
   "execution_count": 14,
   "id": "da8be164",
   "metadata": {},
   "outputs": [
    {
     "data": {
      "text/plain": [
       "Incident\n",
       "DRUG_TYPE_6          549616\n",
       "DRUG_TYPE_1          484565\n",
       "PRIMARY_DIAGNOSIS    424879\n",
       "DRUG_TYPE_0          298881\n",
       "DRUG_TYPE_2          256203\n",
       "DRUG_TYPE_7          251239\n",
       "DRUG_TYPE_8          158706\n",
       "DRUG_TYPE_3          126615\n",
       "TEST_TYPE_1           96810\n",
       "TARGET DRUG           67218\n",
       "DRUG_TYPE_9           66894\n",
       "DRUG_TYPE_5           55940\n",
       "SYMPTOM_TYPE_0        46078\n",
       "DRUG_TYPE_11          45419\n",
       "SYMPTOM_TYPE_6        32066\n",
       "TEST_TYPE_0           27570\n",
       "SYMPTOM_TYPE_7        22019\n",
       "DRUG_TYPE_10          20911\n",
       "DRUG_TYPE_14          17306\n",
       "DRUG_TYPE_13          12321\n",
       "DRUG_TYPE_12           9540\n",
       "SYMPTOM_TYPE_14        8927\n",
       "SYMPTOM_TYPE_1         8608\n",
       "SYMPTOM_TYPE_2         8168\n",
       "TEST_TYPE_3            8115\n",
       "SYMPTOM_TYPE_5         7583\n",
       "SYMPTOM_TYPE_8         7430\n",
       "TEST_TYPE_2            7021\n",
       "SYMPTOM_TYPE_15        6295\n",
       "SYMPTOM_TYPE_10        6005\n",
       "SYMPTOM_TYPE_29        5910\n",
       "SYMPTOM_TYPE_16        4940\n",
       "DRUG_TYPE_15           4906\n",
       "SYMPTOM_TYPE_9         4885\n",
       "DRUG_TYPE_4            4566\n",
       "SYMPTOM_TYPE_4         4115\n",
       "SYMPTOM_TYPE_3         3931\n",
       "SYMPTOM_TYPE_12        2685\n",
       "SYMPTOM_TYPE_11        2483\n",
       "SYMPTOM_TYPE_17        2090\n",
       "SYMPTOM_TYPE_13        1541\n",
       "DRUG_TYPE_16           1127\n",
       "TEST_TYPE_4            1108\n",
       "SYMPTOM_TYPE_18         530\n",
       "SYMPTOM_TYPE_21         363\n",
       "SYMPTOM_TYPE_22         285\n",
       "SYMPTOM_TYPE_19         219\n",
       "DRUG_TYPE_17            214\n",
       "TEST_TYPE_5             137\n",
       "SYMPTOM_TYPE_24          97\n",
       "SYMPTOM_TYPE_26          63\n",
       "SYMPTOM_TYPE_23          54\n",
       "SYMPTOM_TYPE_20          53\n",
       "SYMPTOM_TYPE_27          21\n",
       "SYMPTOM_TYPE_25          18\n",
       "SYMPTOM_TYPE_28           7\n",
       "DRUG_TYPE_18              1\n",
       "Name: count, dtype: int64"
      ]
     },
     "execution_count": 14,
     "metadata": {},
     "output_type": "execute_result"
    }
   ],
   "source": [
    "#Exploring the dataset\n",
    "#Counts of each incident\n",
    "train_df.Incident.value_counts()"
   ]
  },
  {
   "cell_type": "code",
   "execution_count": 15,
   "id": "1b714f1e",
   "metadata": {},
   "outputs": [
    {
     "data": {
      "text/plain": [
       "Date\n",
       "2019-05-21    3645\n",
       "2019-05-22    3330\n",
       "2019-03-05    3156\n",
       "2019-05-14    3134\n",
       "2019-03-12    2986\n",
       "              ... \n",
       "2017-01-27     308\n",
       "2017-02-28     285\n",
       "2020-02-29     282\n",
       "2016-01-29     271\n",
       "2016-02-29     255\n",
       "Name: count, Length: 1977, dtype: int64"
      ]
     },
     "execution_count": 15,
     "metadata": {},
     "output_type": "execute_result"
    }
   ],
   "source": [
    "#Counts for each Date\n",
    "train_df.Date.value_counts()"
   ]
  },
  {
   "cell_type": "code",
   "execution_count": 16,
   "id": "cb14ab85",
   "metadata": {},
   "outputs": [
    {
     "data": {
      "text/html": [
       "<div>\n",
       "<style scoped>\n",
       "    .dataframe tbody tr th:only-of-type {\n",
       "        vertical-align: middle;\n",
       "    }\n",
       "\n",
       "    .dataframe tbody tr th {\n",
       "        vertical-align: top;\n",
       "    }\n",
       "\n",
       "    .dataframe thead th {\n",
       "        text-align: right;\n",
       "    }\n",
       "</style>\n",
       "<table border=\"1\" class=\"dataframe\">\n",
       "  <thead>\n",
       "    <tr style=\"text-align: right;\">\n",
       "      <th></th>\n",
       "      <th>Patient-Uid</th>\n",
       "      <th>Date</th>\n",
       "      <th>Incident</th>\n",
       "    </tr>\n",
       "  </thead>\n",
       "  <tbody>\n",
       "    <tr>\n",
       "      <th>3294791</th>\n",
       "      <td>a0eb742b-1c7c-11ec-8f61-16262ee38c7f</td>\n",
       "      <td>2020-04-09</td>\n",
       "      <td>TARGET DRUG</td>\n",
       "    </tr>\n",
       "    <tr>\n",
       "      <th>3296990</th>\n",
       "      <td>a0edaf09-1c7c-11ec-a360-16262ee38c7f</td>\n",
       "      <td>2018-06-12</td>\n",
       "      <td>TARGET DRUG</td>\n",
       "    </tr>\n",
       "    <tr>\n",
       "      <th>3305387</th>\n",
       "      <td>a0e9fa0e-1c7c-11ec-8dc7-16262ee38c7f</td>\n",
       "      <td>2019-06-11</td>\n",
       "      <td>TARGET DRUG</td>\n",
       "    </tr>\n",
       "    <tr>\n",
       "      <th>3309423</th>\n",
       "      <td>a0ecc615-1c7c-11ec-aa31-16262ee38c7f</td>\n",
       "      <td>2019-11-15</td>\n",
       "      <td>TARGET DRUG</td>\n",
       "    </tr>\n",
       "    <tr>\n",
       "      <th>3309494</th>\n",
       "      <td>a0ea612f-1c7c-11ec-8cf0-16262ee38c7f</td>\n",
       "      <td>2020-03-18</td>\n",
       "      <td>TARGET DRUG</td>\n",
       "    </tr>\n",
       "  </tbody>\n",
       "</table>\n",
       "</div>"
      ],
      "text/plain": [
       "                                  Patient-Uid       Date     Incident\n",
       "3294791  a0eb742b-1c7c-11ec-8f61-16262ee38c7f 2020-04-09  TARGET DRUG\n",
       "3296990  a0edaf09-1c7c-11ec-a360-16262ee38c7f 2018-06-12  TARGET DRUG\n",
       "3305387  a0e9fa0e-1c7c-11ec-8dc7-16262ee38c7f 2019-06-11  TARGET DRUG\n",
       "3309423  a0ecc615-1c7c-11ec-aa31-16262ee38c7f 2019-11-15  TARGET DRUG\n",
       "3309494  a0ea612f-1c7c-11ec-8cf0-16262ee38c7f 2020-03-18  TARGET DRUG"
      ]
     },
     "execution_count": 16,
     "metadata": {},
     "output_type": "execute_result"
    }
   ],
   "source": [
    "#Generate positive set\n",
    "positive_df = train_df[train_df['Incident'] == 'TARGET DRUG']\n",
    "positive_df.head()"
   ]
  },
  {
   "cell_type": "code",
   "execution_count": 17,
   "id": "1c4186f9",
   "metadata": {},
   "outputs": [
    {
     "data": {
      "text/plain": [
       "(67218, 3)"
      ]
     },
     "execution_count": 17,
     "metadata": {},
     "output_type": "execute_result"
    }
   ],
   "source": [
    "#Shape of positive set\n",
    "positive_df.shape"
   ]
  },
  {
   "cell_type": "code",
   "execution_count": 18,
   "id": "2c785ec2",
   "metadata": {},
   "outputs": [
    {
     "data": {
      "text/html": [
       "<div>\n",
       "<style scoped>\n",
       "    .dataframe tbody tr th:only-of-type {\n",
       "        vertical-align: middle;\n",
       "    }\n",
       "\n",
       "    .dataframe tbody tr th {\n",
       "        vertical-align: top;\n",
       "    }\n",
       "\n",
       "    .dataframe thead th {\n",
       "        text-align: right;\n",
       "    }\n",
       "</style>\n",
       "<table border=\"1\" class=\"dataframe\">\n",
       "  <thead>\n",
       "    <tr style=\"text-align: right;\">\n",
       "      <th></th>\n",
       "      <th>Patient-Uid</th>\n",
       "      <th>Date</th>\n",
       "      <th>Incident</th>\n",
       "    </tr>\n",
       "  </thead>\n",
       "  <tbody>\n",
       "    <tr>\n",
       "      <th>1560892</th>\n",
       "      <td>a0e3a8c0-1c7c-11ec-98c2-16262ee38c7f</td>\n",
       "      <td>2018-05-06</td>\n",
       "      <td>PRIMARY_DIAGNOSIS</td>\n",
       "    </tr>\n",
       "    <tr>\n",
       "      <th>1620903</th>\n",
       "      <td>a0dd6a3f-1c7c-11ec-9b86-16262ee38c7f</td>\n",
       "      <td>2015-04-07</td>\n",
       "      <td>SYMPTOM_TYPE_0</td>\n",
       "    </tr>\n",
       "    <tr>\n",
       "      <th>1629044</th>\n",
       "      <td>a0e48a75-1c7c-11ec-8c5f-16262ee38c7f</td>\n",
       "      <td>2018-08-22</td>\n",
       "      <td>DRUG_TYPE_6</td>\n",
       "    </tr>\n",
       "    <tr>\n",
       "      <th>1942882</th>\n",
       "      <td>a0e3cf61-1c7c-11ec-8098-16262ee38c7f</td>\n",
       "      <td>2018-08-21</td>\n",
       "      <td>DRUG_TYPE_2</td>\n",
       "    </tr>\n",
       "    <tr>\n",
       "      <th>1975541</th>\n",
       "      <td>a0e91a8c-1c7c-11ec-acc2-16262ee38c7f</td>\n",
       "      <td>2020-04-15</td>\n",
       "      <td>PRIMARY_DIAGNOSIS</td>\n",
       "    </tr>\n",
       "    <tr>\n",
       "      <th>...</th>\n",
       "      <td>...</td>\n",
       "      <td>...</td>\n",
       "      <td>...</td>\n",
       "    </tr>\n",
       "    <tr>\n",
       "      <th>3256795</th>\n",
       "      <td>a0e045a1-1c7c-11ec-8014-16262ee38c7f</td>\n",
       "      <td>2020-07-10</td>\n",
       "      <td>PRIMARY_DIAGNOSIS</td>\n",
       "    </tr>\n",
       "    <tr>\n",
       "      <th>3256799</th>\n",
       "      <td>a0e67e2a-1c7c-11ec-b805-16262ee38c7f</td>\n",
       "      <td>2015-12-16</td>\n",
       "      <td>PRIMARY_DIAGNOSIS</td>\n",
       "    </tr>\n",
       "    <tr>\n",
       "      <th>3256800</th>\n",
       "      <td>a0dec400-1c7c-11ec-80df-16262ee38c7f</td>\n",
       "      <td>2019-08-06</td>\n",
       "      <td>PRIMARY_DIAGNOSIS</td>\n",
       "    </tr>\n",
       "    <tr>\n",
       "      <th>3256804</th>\n",
       "      <td>a0e09919-1c7c-11ec-9e7d-16262ee38c7f</td>\n",
       "      <td>2017-02-19</td>\n",
       "      <td>DRUG_TYPE_6</td>\n",
       "    </tr>\n",
       "    <tr>\n",
       "      <th>3256805</th>\n",
       "      <td>a0e69331-1c7c-11ec-a98d-16262ee38c7f</td>\n",
       "      <td>2015-10-03</td>\n",
       "      <td>DRUG_TYPE_6</td>\n",
       "    </tr>\n",
       "  </tbody>\n",
       "</table>\n",
       "<p>17659 rows × 3 columns</p>\n",
       "</div>"
      ],
      "text/plain": [
       "                                  Patient-Uid       Date           Incident\n",
       "1560892  a0e3a8c0-1c7c-11ec-98c2-16262ee38c7f 2018-05-06  PRIMARY_DIAGNOSIS\n",
       "1620903  a0dd6a3f-1c7c-11ec-9b86-16262ee38c7f 2015-04-07     SYMPTOM_TYPE_0\n",
       "1629044  a0e48a75-1c7c-11ec-8c5f-16262ee38c7f 2018-08-22        DRUG_TYPE_6\n",
       "1942882  a0e3cf61-1c7c-11ec-8098-16262ee38c7f 2018-08-21        DRUG_TYPE_2\n",
       "1975541  a0e91a8c-1c7c-11ec-acc2-16262ee38c7f 2020-04-15  PRIMARY_DIAGNOSIS\n",
       "...                                       ...        ...                ...\n",
       "3256795  a0e045a1-1c7c-11ec-8014-16262ee38c7f 2020-07-10  PRIMARY_DIAGNOSIS\n",
       "3256799  a0e67e2a-1c7c-11ec-b805-16262ee38c7f 2015-12-16  PRIMARY_DIAGNOSIS\n",
       "3256800  a0dec400-1c7c-11ec-80df-16262ee38c7f 2019-08-06  PRIMARY_DIAGNOSIS\n",
       "3256804  a0e09919-1c7c-11ec-9e7d-16262ee38c7f 2017-02-19        DRUG_TYPE_6\n",
       "3256805  a0e69331-1c7c-11ec-a98d-16262ee38c7f 2015-10-03        DRUG_TYPE_6\n",
       "\n",
       "[17659 rows x 3 columns]"
      ]
     },
     "execution_count": 18,
     "metadata": {},
     "output_type": "execute_result"
    }
   ],
   "source": [
    "#Generate negative set\n",
    "negative = train_df[~train_df['Patient-Uid'].isin(positive_df['Patient-Uid'])]\n",
    "negative_df = negative.groupby('Patient-Uid').tail(1)\n",
    "negative_df"
   ]
  },
  {
   "cell_type": "code",
   "execution_count": 19,
   "id": "e55b83ba",
   "metadata": {},
   "outputs": [
    {
     "data": {
      "text/plain": [
       "(17659, 3)"
      ]
     },
     "execution_count": 19,
     "metadata": {},
     "output_type": "execute_result"
    }
   ],
   "source": [
    "#Shape of negative set\n",
    "negative_df.shape"
   ]
  },
  {
   "cell_type": "code",
   "execution_count": 20,
   "id": "a85908f4",
   "metadata": {},
   "outputs": [
    {
     "data": {
      "text/html": [
       "<div>\n",
       "<style scoped>\n",
       "    .dataframe tbody tr th:only-of-type {\n",
       "        vertical-align: middle;\n",
       "    }\n",
       "\n",
       "    .dataframe tbody tr th {\n",
       "        vertical-align: top;\n",
       "    }\n",
       "\n",
       "    .dataframe thead th {\n",
       "        text-align: right;\n",
       "    }\n",
       "</style>\n",
       "<table border=\"1\" class=\"dataframe\">\n",
       "  <thead>\n",
       "    <tr style=\"text-align: right;\">\n",
       "      <th></th>\n",
       "      <th>Patient-Uid</th>\n",
       "      <th>Date</th>\n",
       "      <th>Incident</th>\n",
       "      <th>Prescription_Count</th>\n",
       "    </tr>\n",
       "  </thead>\n",
       "  <tbody>\n",
       "    <tr>\n",
       "      <th>29074998</th>\n",
       "      <td>a0ef2b6d-1c7c-11ec-9172-16262ee38c7f</td>\n",
       "      <td>2018-10-12</td>\n",
       "      <td>TARGET DRUG</td>\n",
       "      <td>4</td>\n",
       "    </tr>\n",
       "    <tr>\n",
       "      <th>29075105</th>\n",
       "      <td>a0ebe423-1c7c-11ec-a5e0-16262ee38c7f</td>\n",
       "      <td>2019-07-02</td>\n",
       "      <td>TARGET DRUG</td>\n",
       "      <td>9</td>\n",
       "    </tr>\n",
       "    <tr>\n",
       "      <th>29075494</th>\n",
       "      <td>a0ebc713-1c7c-11ec-bd53-16262ee38c7f</td>\n",
       "      <td>2019-05-21</td>\n",
       "      <td>TARGET DRUG</td>\n",
       "      <td>10</td>\n",
       "    </tr>\n",
       "    <tr>\n",
       "      <th>29080031</th>\n",
       "      <td>a0ee1bdb-1c7c-11ec-90ba-16262ee38c7f</td>\n",
       "      <td>2018-06-07</td>\n",
       "      <td>TARGET DRUG</td>\n",
       "      <td>14</td>\n",
       "    </tr>\n",
       "    <tr>\n",
       "      <th>29080178</th>\n",
       "      <td>a0eef180-1c7c-11ec-8de8-16262ee38c7f</td>\n",
       "      <td>2018-07-17</td>\n",
       "      <td>TARGET DRUG</td>\n",
       "      <td>13</td>\n",
       "    </tr>\n",
       "  </tbody>\n",
       "</table>\n",
       "</div>"
      ],
      "text/plain": [
       "                                   Patient-Uid       Date     Incident  \\\n",
       "29074998  a0ef2b6d-1c7c-11ec-9172-16262ee38c7f 2018-10-12  TARGET DRUG   \n",
       "29075105  a0ebe423-1c7c-11ec-a5e0-16262ee38c7f 2019-07-02  TARGET DRUG   \n",
       "29075494  a0ebc713-1c7c-11ec-bd53-16262ee38c7f 2019-05-21  TARGET DRUG   \n",
       "29080031  a0ee1bdb-1c7c-11ec-90ba-16262ee38c7f 2018-06-07  TARGET DRUG   \n",
       "29080178  a0eef180-1c7c-11ec-8de8-16262ee38c7f 2018-07-17  TARGET DRUG   \n",
       "\n",
       "          Prescription_Count  \n",
       "29074998                   4  \n",
       "29075105                   9  \n",
       "29075494                  10  \n",
       "29080031                  14  \n",
       "29080178                  13  "
      ]
     },
     "execution_count": 20,
     "metadata": {},
     "output_type": "execute_result"
    }
   ],
   "source": [
    "#Calculate prescription counts within specific time intervals\n",
    "positive_df['Prescription_Count'] = positive_df.groupby('Patient-Uid')['Date'].cumcount()\n",
    "negative_df['Prescription_Count'] = negative_df.groupby('Patient-Uid')['Date'].cumcount()\n",
    "positive_df.tail(5)"
   ]
  },
  {
   "cell_type": "code",
   "execution_count": 21,
   "id": "167b5903",
   "metadata": {},
   "outputs": [
    {
     "data": {
      "text/html": [
       "<div>\n",
       "<style scoped>\n",
       "    .dataframe tbody tr th:only-of-type {\n",
       "        vertical-align: middle;\n",
       "    }\n",
       "\n",
       "    .dataframe tbody tr th {\n",
       "        vertical-align: top;\n",
       "    }\n",
       "\n",
       "    .dataframe thead th {\n",
       "        text-align: right;\n",
       "    }\n",
       "</style>\n",
       "<table border=\"1\" class=\"dataframe\">\n",
       "  <thead>\n",
       "    <tr style=\"text-align: right;\">\n",
       "      <th></th>\n",
       "      <th>Patient-Uid</th>\n",
       "      <th>Date</th>\n",
       "      <th>Incident</th>\n",
       "      <th>Prescription_Count</th>\n",
       "    </tr>\n",
       "  </thead>\n",
       "  <tbody>\n",
       "    <tr>\n",
       "      <th>3256795</th>\n",
       "      <td>a0e045a1-1c7c-11ec-8014-16262ee38c7f</td>\n",
       "      <td>2020-07-10</td>\n",
       "      <td>PRIMARY_DIAGNOSIS</td>\n",
       "      <td>0</td>\n",
       "    </tr>\n",
       "    <tr>\n",
       "      <th>3256799</th>\n",
       "      <td>a0e67e2a-1c7c-11ec-b805-16262ee38c7f</td>\n",
       "      <td>2015-12-16</td>\n",
       "      <td>PRIMARY_DIAGNOSIS</td>\n",
       "      <td>0</td>\n",
       "    </tr>\n",
       "    <tr>\n",
       "      <th>3256800</th>\n",
       "      <td>a0dec400-1c7c-11ec-80df-16262ee38c7f</td>\n",
       "      <td>2019-08-06</td>\n",
       "      <td>PRIMARY_DIAGNOSIS</td>\n",
       "      <td>0</td>\n",
       "    </tr>\n",
       "    <tr>\n",
       "      <th>3256804</th>\n",
       "      <td>a0e09919-1c7c-11ec-9e7d-16262ee38c7f</td>\n",
       "      <td>2017-02-19</td>\n",
       "      <td>DRUG_TYPE_6</td>\n",
       "      <td>0</td>\n",
       "    </tr>\n",
       "    <tr>\n",
       "      <th>3256805</th>\n",
       "      <td>a0e69331-1c7c-11ec-a98d-16262ee38c7f</td>\n",
       "      <td>2015-10-03</td>\n",
       "      <td>DRUG_TYPE_6</td>\n",
       "      <td>0</td>\n",
       "    </tr>\n",
       "  </tbody>\n",
       "</table>\n",
       "</div>"
      ],
      "text/plain": [
       "                                  Patient-Uid       Date           Incident  \\\n",
       "3256795  a0e045a1-1c7c-11ec-8014-16262ee38c7f 2020-07-10  PRIMARY_DIAGNOSIS   \n",
       "3256799  a0e67e2a-1c7c-11ec-b805-16262ee38c7f 2015-12-16  PRIMARY_DIAGNOSIS   \n",
       "3256800  a0dec400-1c7c-11ec-80df-16262ee38c7f 2019-08-06  PRIMARY_DIAGNOSIS   \n",
       "3256804  a0e09919-1c7c-11ec-9e7d-16262ee38c7f 2017-02-19        DRUG_TYPE_6   \n",
       "3256805  a0e69331-1c7c-11ec-a98d-16262ee38c7f 2015-10-03        DRUG_TYPE_6   \n",
       "\n",
       "         Prescription_Count  \n",
       "3256795                   0  \n",
       "3256799                   0  \n",
       "3256800                   0  \n",
       "3256804                   0  \n",
       "3256805                   0  "
      ]
     },
     "execution_count": 21,
     "metadata": {},
     "output_type": "execute_result"
    }
   ],
   "source": [
    "negative_df.tail()"
   ]
  },
  {
   "cell_type": "code",
   "execution_count": 22,
   "id": "5a5473fa",
   "metadata": {},
   "outputs": [],
   "source": [
    "#Calculate the difference between the most recent prescription and the prediction date\n",
    "prediction_date = pd.to_datetime('today') + pd.DateOffset(days=30)\n",
    "positive_df['Time_diff'] = (prediction_date - positive_df.groupby('Patient-Uid')['Date'].transform('max')).dt.days\n",
    "negative_df['Time_diff'] = (prediction_date - negative_df.groupby('Patient-Uid')['Date'].transform('max')).dt.days\n"
   ]
  },
  {
   "cell_type": "code",
   "execution_count": 23,
   "id": "ac92e165",
   "metadata": {},
   "outputs": [
    {
     "data": {
      "text/html": [
       "<div>\n",
       "<style scoped>\n",
       "    .dataframe tbody tr th:only-of-type {\n",
       "        vertical-align: middle;\n",
       "    }\n",
       "\n",
       "    .dataframe tbody tr th {\n",
       "        vertical-align: top;\n",
       "    }\n",
       "\n",
       "    .dataframe thead th {\n",
       "        text-align: right;\n",
       "    }\n",
       "</style>\n",
       "<table border=\"1\" class=\"dataframe\">\n",
       "  <thead>\n",
       "    <tr style=\"text-align: right;\">\n",
       "      <th></th>\n",
       "      <th>Patient-Uid</th>\n",
       "      <th>Date</th>\n",
       "      <th>Incident</th>\n",
       "      <th>Prescription_Count</th>\n",
       "      <th>Time_diff</th>\n",
       "    </tr>\n",
       "  </thead>\n",
       "  <tbody>\n",
       "    <tr>\n",
       "      <th>3294791</th>\n",
       "      <td>a0eb742b-1c7c-11ec-8f61-16262ee38c7f</td>\n",
       "      <td>2020-04-09</td>\n",
       "      <td>TARGET DRUG</td>\n",
       "      <td>0</td>\n",
       "      <td>1198</td>\n",
       "    </tr>\n",
       "    <tr>\n",
       "      <th>3296990</th>\n",
       "      <td>a0edaf09-1c7c-11ec-a360-16262ee38c7f</td>\n",
       "      <td>2018-06-12</td>\n",
       "      <td>TARGET DRUG</td>\n",
       "      <td>0</td>\n",
       "      <td>1452</td>\n",
       "    </tr>\n",
       "    <tr>\n",
       "      <th>3305387</th>\n",
       "      <td>a0e9fa0e-1c7c-11ec-8dc7-16262ee38c7f</td>\n",
       "      <td>2019-06-11</td>\n",
       "      <td>TARGET DRUG</td>\n",
       "      <td>0</td>\n",
       "      <td>1477</td>\n",
       "    </tr>\n",
       "    <tr>\n",
       "      <th>3309423</th>\n",
       "      <td>a0ecc615-1c7c-11ec-aa31-16262ee38c7f</td>\n",
       "      <td>2019-11-15</td>\n",
       "      <td>TARGET DRUG</td>\n",
       "      <td>0</td>\n",
       "      <td>1182</td>\n",
       "    </tr>\n",
       "    <tr>\n",
       "      <th>3309494</th>\n",
       "      <td>a0ea612f-1c7c-11ec-8cf0-16262ee38c7f</td>\n",
       "      <td>2020-03-18</td>\n",
       "      <td>TARGET DRUG</td>\n",
       "      <td>0</td>\n",
       "      <td>1198</td>\n",
       "    </tr>\n",
       "  </tbody>\n",
       "</table>\n",
       "</div>"
      ],
      "text/plain": [
       "                                  Patient-Uid       Date     Incident  \\\n",
       "3294791  a0eb742b-1c7c-11ec-8f61-16262ee38c7f 2020-04-09  TARGET DRUG   \n",
       "3296990  a0edaf09-1c7c-11ec-a360-16262ee38c7f 2018-06-12  TARGET DRUG   \n",
       "3305387  a0e9fa0e-1c7c-11ec-8dc7-16262ee38c7f 2019-06-11  TARGET DRUG   \n",
       "3309423  a0ecc615-1c7c-11ec-aa31-16262ee38c7f 2019-11-15  TARGET DRUG   \n",
       "3309494  a0ea612f-1c7c-11ec-8cf0-16262ee38c7f 2020-03-18  TARGET DRUG   \n",
       "\n",
       "         Prescription_Count  Time_diff  \n",
       "3294791                   0       1198  \n",
       "3296990                   0       1452  \n",
       "3305387                   0       1477  \n",
       "3309423                   0       1182  \n",
       "3309494                   0       1198  "
      ]
     },
     "execution_count": 23,
     "metadata": {},
     "output_type": "execute_result"
    }
   ],
   "source": [
    "positive_df.head()"
   ]
  },
  {
   "cell_type": "code",
   "execution_count": 24,
   "id": "223ba35b",
   "metadata": {},
   "outputs": [
    {
     "data": {
      "text/html": [
       "<div>\n",
       "<style scoped>\n",
       "    .dataframe tbody tr th:only-of-type {\n",
       "        vertical-align: middle;\n",
       "    }\n",
       "\n",
       "    .dataframe tbody tr th {\n",
       "        vertical-align: top;\n",
       "    }\n",
       "\n",
       "    .dataframe thead th {\n",
       "        text-align: right;\n",
       "    }\n",
       "</style>\n",
       "<table border=\"1\" class=\"dataframe\">\n",
       "  <thead>\n",
       "    <tr style=\"text-align: right;\">\n",
       "      <th></th>\n",
       "      <th>Patient-Uid</th>\n",
       "      <th>Date</th>\n",
       "      <th>Incident</th>\n",
       "      <th>Prescription_Count</th>\n",
       "      <th>Time_diff</th>\n",
       "    </tr>\n",
       "  </thead>\n",
       "  <tbody>\n",
       "    <tr>\n",
       "      <th>1560892</th>\n",
       "      <td>a0e3a8c0-1c7c-11ec-98c2-16262ee38c7f</td>\n",
       "      <td>2018-05-06</td>\n",
       "      <td>PRIMARY_DIAGNOSIS</td>\n",
       "      <td>0</td>\n",
       "      <td>2028</td>\n",
       "    </tr>\n",
       "    <tr>\n",
       "      <th>1620903</th>\n",
       "      <td>a0dd6a3f-1c7c-11ec-9b86-16262ee38c7f</td>\n",
       "      <td>2015-04-07</td>\n",
       "      <td>SYMPTOM_TYPE_0</td>\n",
       "      <td>0</td>\n",
       "      <td>3153</td>\n",
       "    </tr>\n",
       "    <tr>\n",
       "      <th>1629044</th>\n",
       "      <td>a0e48a75-1c7c-11ec-8c5f-16262ee38c7f</td>\n",
       "      <td>2018-08-22</td>\n",
       "      <td>DRUG_TYPE_6</td>\n",
       "      <td>0</td>\n",
       "      <td>1920</td>\n",
       "    </tr>\n",
       "    <tr>\n",
       "      <th>1942882</th>\n",
       "      <td>a0e3cf61-1c7c-11ec-8098-16262ee38c7f</td>\n",
       "      <td>2018-08-21</td>\n",
       "      <td>DRUG_TYPE_2</td>\n",
       "      <td>0</td>\n",
       "      <td>1921</td>\n",
       "    </tr>\n",
       "    <tr>\n",
       "      <th>1975541</th>\n",
       "      <td>a0e91a8c-1c7c-11ec-acc2-16262ee38c7f</td>\n",
       "      <td>2020-04-15</td>\n",
       "      <td>PRIMARY_DIAGNOSIS</td>\n",
       "      <td>0</td>\n",
       "      <td>1318</td>\n",
       "    </tr>\n",
       "  </tbody>\n",
       "</table>\n",
       "</div>"
      ],
      "text/plain": [
       "                                  Patient-Uid       Date           Incident  \\\n",
       "1560892  a0e3a8c0-1c7c-11ec-98c2-16262ee38c7f 2018-05-06  PRIMARY_DIAGNOSIS   \n",
       "1620903  a0dd6a3f-1c7c-11ec-9b86-16262ee38c7f 2015-04-07     SYMPTOM_TYPE_0   \n",
       "1629044  a0e48a75-1c7c-11ec-8c5f-16262ee38c7f 2018-08-22        DRUG_TYPE_6   \n",
       "1942882  a0e3cf61-1c7c-11ec-8098-16262ee38c7f 2018-08-21        DRUG_TYPE_2   \n",
       "1975541  a0e91a8c-1c7c-11ec-acc2-16262ee38c7f 2020-04-15  PRIMARY_DIAGNOSIS   \n",
       "\n",
       "         Prescription_Count  Time_diff  \n",
       "1560892                   0       2028  \n",
       "1620903                   0       3153  \n",
       "1629044                   0       1920  \n",
       "1942882                   0       1921  \n",
       "1975541                   0       1318  "
      ]
     },
     "execution_count": 24,
     "metadata": {},
     "output_type": "execute_result"
    }
   ],
   "source": [
    "negative_df.head()"
   ]
  },
  {
   "cell_type": "code",
   "execution_count": 25,
   "id": "056d5a4f",
   "metadata": {},
   "outputs": [
    {
     "data": {
      "text/html": [
       "<div>\n",
       "<style scoped>\n",
       "    .dataframe tbody tr th:only-of-type {\n",
       "        vertical-align: middle;\n",
       "    }\n",
       "\n",
       "    .dataframe tbody tr th {\n",
       "        vertical-align: top;\n",
       "    }\n",
       "\n",
       "    .dataframe thead th {\n",
       "        text-align: right;\n",
       "    }\n",
       "</style>\n",
       "<table border=\"1\" class=\"dataframe\">\n",
       "  <thead>\n",
       "    <tr style=\"text-align: right;\">\n",
       "      <th></th>\n",
       "      <th>Patient-Uid</th>\n",
       "      <th>Date</th>\n",
       "      <th>Incident</th>\n",
       "      <th>Prescription_Count</th>\n",
       "      <th>Time_diff</th>\n",
       "    </tr>\n",
       "  </thead>\n",
       "  <tbody>\n",
       "    <tr>\n",
       "      <th>3294791</th>\n",
       "      <td>a0eb742b-1c7c-11ec-8f61-16262ee38c7f</td>\n",
       "      <td>2020-04-09</td>\n",
       "      <td>TARGET DRUG</td>\n",
       "      <td>0</td>\n",
       "      <td>1198</td>\n",
       "    </tr>\n",
       "    <tr>\n",
       "      <th>3296990</th>\n",
       "      <td>a0edaf09-1c7c-11ec-a360-16262ee38c7f</td>\n",
       "      <td>2018-06-12</td>\n",
       "      <td>TARGET DRUG</td>\n",
       "      <td>0</td>\n",
       "      <td>1452</td>\n",
       "    </tr>\n",
       "    <tr>\n",
       "      <th>3305387</th>\n",
       "      <td>a0e9fa0e-1c7c-11ec-8dc7-16262ee38c7f</td>\n",
       "      <td>2019-06-11</td>\n",
       "      <td>TARGET DRUG</td>\n",
       "      <td>0</td>\n",
       "      <td>1477</td>\n",
       "    </tr>\n",
       "    <tr>\n",
       "      <th>3309423</th>\n",
       "      <td>a0ecc615-1c7c-11ec-aa31-16262ee38c7f</td>\n",
       "      <td>2019-11-15</td>\n",
       "      <td>TARGET DRUG</td>\n",
       "      <td>0</td>\n",
       "      <td>1182</td>\n",
       "    </tr>\n",
       "    <tr>\n",
       "      <th>3309494</th>\n",
       "      <td>a0ea612f-1c7c-11ec-8cf0-16262ee38c7f</td>\n",
       "      <td>2020-03-18</td>\n",
       "      <td>TARGET DRUG</td>\n",
       "      <td>0</td>\n",
       "      <td>1198</td>\n",
       "    </tr>\n",
       "  </tbody>\n",
       "</table>\n",
       "</div>"
      ],
      "text/plain": [
       "                                  Patient-Uid       Date     Incident  \\\n",
       "3294791  a0eb742b-1c7c-11ec-8f61-16262ee38c7f 2020-04-09  TARGET DRUG   \n",
       "3296990  a0edaf09-1c7c-11ec-a360-16262ee38c7f 2018-06-12  TARGET DRUG   \n",
       "3305387  a0e9fa0e-1c7c-11ec-8dc7-16262ee38c7f 2019-06-11  TARGET DRUG   \n",
       "3309423  a0ecc615-1c7c-11ec-aa31-16262ee38c7f 2019-11-15  TARGET DRUG   \n",
       "3309494  a0ea612f-1c7c-11ec-8cf0-16262ee38c7f 2020-03-18  TARGET DRUG   \n",
       "\n",
       "         Prescription_Count  Time_diff  \n",
       "3294791                   0       1198  \n",
       "3296990                   0       1452  \n",
       "3305387                   0       1477  \n",
       "3309423                   0       1182  \n",
       "3309494                   0       1198  "
      ]
     },
     "execution_count": 25,
     "metadata": {},
     "output_type": "execute_result"
    }
   ],
   "source": [
    "#Create a new dataset by concatenating positive and negative sets\n",
    "new_df = pd.concat([positive_df, negative_df])\n",
    "new_df.head()"
   ]
  },
  {
   "cell_type": "code",
   "execution_count": 26,
   "id": "330cb13c",
   "metadata": {},
   "outputs": [
    {
     "data": {
      "text/plain": [
       "(84877, 5)"
      ]
     },
     "execution_count": 26,
     "metadata": {},
     "output_type": "execute_result"
    }
   ],
   "source": [
    "new_df.shape"
   ]
  },
  {
   "cell_type": "code",
   "execution_count": 27,
   "id": "9901d8ea",
   "metadata": {},
   "outputs": [],
   "source": [
    "#Split the dataset into train and test sets\n",
    "X = new_df[['Prescription_Count', 'Time_diff']]\n",
    "y = (new_df['Incident'] == 'TARGET DRUG')\n",
    "X_train, X_test, y_train, y_test = train_test_split(X, y, test_size=0.25, random_state=42)"
   ]
  },
  {
   "cell_type": "code",
   "execution_count": 28,
   "id": "eac6b02a",
   "metadata": {},
   "outputs": [
    {
     "data": {
      "text/html": [
       "<style>#sk-container-id-1 {color: black;}#sk-container-id-1 pre{padding: 0;}#sk-container-id-1 div.sk-toggleable {background-color: white;}#sk-container-id-1 label.sk-toggleable__label {cursor: pointer;display: block;width: 100%;margin-bottom: 0;padding: 0.3em;box-sizing: border-box;text-align: center;}#sk-container-id-1 label.sk-toggleable__label-arrow:before {content: \"▸\";float: left;margin-right: 0.25em;color: #696969;}#sk-container-id-1 label.sk-toggleable__label-arrow:hover:before {color: black;}#sk-container-id-1 div.sk-estimator:hover label.sk-toggleable__label-arrow:before {color: black;}#sk-container-id-1 div.sk-toggleable__content {max-height: 0;max-width: 0;overflow: hidden;text-align: left;background-color: #f0f8ff;}#sk-container-id-1 div.sk-toggleable__content pre {margin: 0.2em;color: black;border-radius: 0.25em;background-color: #f0f8ff;}#sk-container-id-1 input.sk-toggleable__control:checked~div.sk-toggleable__content {max-height: 200px;max-width: 100%;overflow: auto;}#sk-container-id-1 input.sk-toggleable__control:checked~label.sk-toggleable__label-arrow:before {content: \"▾\";}#sk-container-id-1 div.sk-estimator input.sk-toggleable__control:checked~label.sk-toggleable__label {background-color: #d4ebff;}#sk-container-id-1 div.sk-label input.sk-toggleable__control:checked~label.sk-toggleable__label {background-color: #d4ebff;}#sk-container-id-1 input.sk-hidden--visually {border: 0;clip: rect(1px 1px 1px 1px);clip: rect(1px, 1px, 1px, 1px);height: 1px;margin: -1px;overflow: hidden;padding: 0;position: absolute;width: 1px;}#sk-container-id-1 div.sk-estimator {font-family: monospace;background-color: #f0f8ff;border: 1px dotted black;border-radius: 0.25em;box-sizing: border-box;margin-bottom: 0.5em;}#sk-container-id-1 div.sk-estimator:hover {background-color: #d4ebff;}#sk-container-id-1 div.sk-parallel-item::after {content: \"\";width: 100%;border-bottom: 1px solid gray;flex-grow: 1;}#sk-container-id-1 div.sk-label:hover label.sk-toggleable__label {background-color: #d4ebff;}#sk-container-id-1 div.sk-serial::before {content: \"\";position: absolute;border-left: 1px solid gray;box-sizing: border-box;top: 0;bottom: 0;left: 50%;z-index: 0;}#sk-container-id-1 div.sk-serial {display: flex;flex-direction: column;align-items: center;background-color: white;padding-right: 0.2em;padding-left: 0.2em;position: relative;}#sk-container-id-1 div.sk-item {position: relative;z-index: 1;}#sk-container-id-1 div.sk-parallel {display: flex;align-items: stretch;justify-content: center;background-color: white;position: relative;}#sk-container-id-1 div.sk-item::before, #sk-container-id-1 div.sk-parallel-item::before {content: \"\";position: absolute;border-left: 1px solid gray;box-sizing: border-box;top: 0;bottom: 0;left: 50%;z-index: -1;}#sk-container-id-1 div.sk-parallel-item {display: flex;flex-direction: column;z-index: 1;position: relative;background-color: white;}#sk-container-id-1 div.sk-parallel-item:first-child::after {align-self: flex-end;width: 50%;}#sk-container-id-1 div.sk-parallel-item:last-child::after {align-self: flex-start;width: 50%;}#sk-container-id-1 div.sk-parallel-item:only-child::after {width: 0;}#sk-container-id-1 div.sk-dashed-wrapped {border: 1px dashed gray;margin: 0 0.4em 0.5em 0.4em;box-sizing: border-box;padding-bottom: 0.4em;background-color: white;}#sk-container-id-1 div.sk-label label {font-family: monospace;font-weight: bold;display: inline-block;line-height: 1.2em;}#sk-container-id-1 div.sk-label-container {text-align: center;}#sk-container-id-1 div.sk-container {/* jupyter's `normalize.less` sets `[hidden] { display: none; }` but bootstrap.min.css set `[hidden] { display: none !important; }` so we also need the `!important` here to be able to override the default hidden behavior on the sphinx rendered scikit-learn.org. See: https://github.com/scikit-learn/scikit-learn/issues/21755 */display: inline-block !important;position: relative;}#sk-container-id-1 div.sk-text-repr-fallback {display: none;}</style><div id=\"sk-container-id-1\" class=\"sk-top-container\"><div class=\"sk-text-repr-fallback\"><pre>XGBClassifier(base_score=None, booster=None, callbacks=None,\n",
       "              colsample_bylevel=None, colsample_bynode=None,\n",
       "              colsample_bytree=None, device=None, early_stopping_rounds=None,\n",
       "              enable_categorical=False, eval_metric=None, feature_types=None,\n",
       "              gamma=None, grow_policy=None, importance_type=None,\n",
       "              interaction_constraints=None, learning_rate=None, max_bin=None,\n",
       "              max_cat_threshold=None, max_cat_to_onehot=None,\n",
       "              max_delta_step=None, max_depth=None, max_leaves=None,\n",
       "              min_child_weight=None, missing=nan, monotone_constraints=None,\n",
       "              multi_strategy=None, n_estimators=None, n_jobs=None,\n",
       "              num_parallel_tree=None, random_state=42, ...)</pre><b>In a Jupyter environment, please rerun this cell to show the HTML representation or trust the notebook. <br />On GitHub, the HTML representation is unable to render, please try loading this page with nbviewer.org.</b></div><div class=\"sk-container\" hidden><div class=\"sk-item\"><div class=\"sk-estimator sk-toggleable\"><input class=\"sk-toggleable__control sk-hidden--visually\" id=\"sk-estimator-id-1\" type=\"checkbox\" checked><label for=\"sk-estimator-id-1\" class=\"sk-toggleable__label sk-toggleable__label-arrow\">XGBClassifier</label><div class=\"sk-toggleable__content\"><pre>XGBClassifier(base_score=None, booster=None, callbacks=None,\n",
       "              colsample_bylevel=None, colsample_bynode=None,\n",
       "              colsample_bytree=None, device=None, early_stopping_rounds=None,\n",
       "              enable_categorical=False, eval_metric=None, feature_types=None,\n",
       "              gamma=None, grow_policy=None, importance_type=None,\n",
       "              interaction_constraints=None, learning_rate=None, max_bin=None,\n",
       "              max_cat_threshold=None, max_cat_to_onehot=None,\n",
       "              max_delta_step=None, max_depth=None, max_leaves=None,\n",
       "              min_child_weight=None, missing=nan, monotone_constraints=None,\n",
       "              multi_strategy=None, n_estimators=None, n_jobs=None,\n",
       "              num_parallel_tree=None, random_state=42, ...)</pre></div></div></div></div></div>"
      ],
      "text/plain": [
       "XGBClassifier(base_score=None, booster=None, callbacks=None,\n",
       "              colsample_bylevel=None, colsample_bynode=None,\n",
       "              colsample_bytree=None, device=None, early_stopping_rounds=None,\n",
       "              enable_categorical=False, eval_metric=None, feature_types=None,\n",
       "              gamma=None, grow_policy=None, importance_type=None,\n",
       "              interaction_constraints=None, learning_rate=None, max_bin=None,\n",
       "              max_cat_threshold=None, max_cat_to_onehot=None,\n",
       "              max_delta_step=None, max_depth=None, max_leaves=None,\n",
       "              min_child_weight=None, missing=nan, monotone_constraints=None,\n",
       "              multi_strategy=None, n_estimators=None, n_jobs=None,\n",
       "              num_parallel_tree=None, random_state=42, ...)"
      ]
     },
     "execution_count": 28,
     "metadata": {},
     "output_type": "execute_result"
    }
   ],
   "source": [
    "#Building Model\n",
    "xgb_classifier = XGBClassifier(random_state=42)\n",
    "xgb_classifier.fit(X_train, y_train)"
   ]
  },
  {
   "cell_type": "code",
   "execution_count": 29,
   "id": "7b49688c",
   "metadata": {},
   "outputs": [],
   "source": [
    "#Predicting test data\n",
    "y_pred = xgb_classifier.predict(X_test)"
   ]
  },
  {
   "cell_type": "code",
   "execution_count": 30,
   "id": "2977f97c",
   "metadata": {},
   "outputs": [
    {
     "data": {
      "text/plain": [
       "array([[ 4015,   377],\n",
       "       [  895, 15933]], dtype=int64)"
      ]
     },
     "execution_count": 30,
     "metadata": {},
     "output_type": "execute_result"
    }
   ],
   "source": [
    "#Evaluate the model\n",
    "# Confusion matrix\n",
    "conf_matrix_report = confusion_matrix(y_test, y_pred)\n",
    "conf_matrix_report"
   ]
  },
  {
   "cell_type": "code",
   "execution_count": 31,
   "id": "466ef02b",
   "metadata": {},
   "outputs": [
    {
     "name": "stdout",
     "output_type": "stream",
     "text": [
      "              precision    recall  f1-score   support\n",
      "\n",
      "       False       0.82      0.91      0.86      4392\n",
      "        True       0.98      0.95      0.96     16828\n",
      "\n",
      "    accuracy                           0.94     21220\n",
      "   macro avg       0.90      0.93      0.91     21220\n",
      "weighted avg       0.94      0.94      0.94     21220\n",
      "\n"
     ]
    }
   ],
   "source": [
    "#Classification report\n",
    "print(classification_report(y_test, y_pred))"
   ]
  },
  {
   "cell_type": "code",
   "execution_count": 32,
   "id": "f3c9cc7e",
   "metadata": {},
   "outputs": [
    {
     "data": {
      "text/plain": [
       "0.9400565504241282"
      ]
     },
     "execution_count": 32,
     "metadata": {},
     "output_type": "execute_result"
    }
   ],
   "source": [
    "#Calculate F1 score\n",
    "accuracy_score(y_test, y_pred)"
   ]
  },
  {
   "cell_type": "code",
   "execution_count": 33,
   "id": "cc103124",
   "metadata": {},
   "outputs": [
    {
     "data": {
      "image/png": "[encoded data removed]",
      "text/plain": [
       "<Figure size 640x480 with 1 Axes>"
      ]
     },
     "metadata": {},
     "output_type": "display_data"
    }
   ],
   "source": [
    "#Evaluate the model by ROC-Curve\n",
    "fpr, tpr, threshold = roc_curve(y_test, y_pred)\n",
    "roc_auc = auc(fpr, tpr)\n",
    "plt.plot(fpr, tpr, label='AUC = %0.3f' % roc_auc)\n",
    "plt.plot([0, 1], [0, 1], '--')\n",
    "plt.title('ROC_AUC Curve')\n",
    "plt.legend(loc='lower right')\n",
    "plt.xlabel('False positive rate')\n",
    "plt.ylabel('True positive rate')\n",
    "plt.show()"
   ]
  },
  {
   "cell_type": "code",
   "execution_count": 34,
   "id": "e7742517",
   "metadata": {},
   "outputs": [],
   "source": [
    "#Loading Dataset - Test Data\n",
    "test_df = pd.read_parquet('test.parquet')"
   ]
  },
  {
   "cell_type": "code",
   "execution_count": 35,
   "id": "c5a50dcc",
   "metadata": {},
   "outputs": [
    {
     "name": "stdout",
     "output_type": "stream",
     "text": [
      "Data set size: (1065524, 3)\n"
     ]
    }
   ],
   "source": [
    "#Analysis of Data\n",
    "#Checking the size of the dataset\n",
    "print(\"Data set size:\", test_df.shape)"
   ]
  },
  {
   "cell_type": "code",
   "execution_count": 36,
   "id": "324bf83e",
   "metadata": {},
   "outputs": [
    {
     "data": {
      "text/html": [
       "<div>\n",
       "<style scoped>\n",
       "    .dataframe tbody tr th:only-of-type {\n",
       "        vertical-align: middle;\n",
       "    }\n",
       "\n",
       "    .dataframe tbody tr th {\n",
       "        vertical-align: top;\n",
       "    }\n",
       "\n",
       "    .dataframe thead th {\n",
       "        text-align: right;\n",
       "    }\n",
       "</style>\n",
       "<table border=\"1\" class=\"dataframe\">\n",
       "  <thead>\n",
       "    <tr style=\"text-align: right;\">\n",
       "      <th></th>\n",
       "      <th>Patient-Uid</th>\n",
       "      <th>Date</th>\n",
       "      <th>Incident</th>\n",
       "    </tr>\n",
       "  </thead>\n",
       "  <tbody>\n",
       "    <tr>\n",
       "      <th>0</th>\n",
       "      <td>a0f9e8a9-1c7c-11ec-8d25-16262ee38c7f</td>\n",
       "      <td>2016-12-08</td>\n",
       "      <td>SYMPTOM_TYPE_0</td>\n",
       "    </tr>\n",
       "    <tr>\n",
       "      <th>1</th>\n",
       "      <td>a0f9e8a9-1c7c-11ec-8d25-16262ee38c7f</td>\n",
       "      <td>2018-10-17</td>\n",
       "      <td>DRUG_TYPE_0</td>\n",
       "    </tr>\n",
       "    <tr>\n",
       "      <th>2</th>\n",
       "      <td>a0f9e8a9-1c7c-11ec-8d25-16262ee38c7f</td>\n",
       "      <td>2017-12-01</td>\n",
       "      <td>DRUG_TYPE_2</td>\n",
       "    </tr>\n",
       "    <tr>\n",
       "      <th>3</th>\n",
       "      <td>a0f9e8a9-1c7c-11ec-8d25-16262ee38c7f</td>\n",
       "      <td>2018-12-05</td>\n",
       "      <td>DRUG_TYPE_1</td>\n",
       "    </tr>\n",
       "    <tr>\n",
       "      <th>4</th>\n",
       "      <td>a0f9e8a9-1c7c-11ec-8d25-16262ee38c7f</td>\n",
       "      <td>2017-11-04</td>\n",
       "      <td>SYMPTOM_TYPE_0</td>\n",
       "    </tr>\n",
       "  </tbody>\n",
       "</table>\n",
       "</div>"
      ],
      "text/plain": [
       "                            Patient-Uid       Date        Incident\n",
       "0  a0f9e8a9-1c7c-11ec-8d25-16262ee38c7f 2016-12-08  SYMPTOM_TYPE_0\n",
       "1  a0f9e8a9-1c7c-11ec-8d25-16262ee38c7f 2018-10-17     DRUG_TYPE_0\n",
       "2  a0f9e8a9-1c7c-11ec-8d25-16262ee38c7f 2017-12-01     DRUG_TYPE_2\n",
       "3  a0f9e8a9-1c7c-11ec-8d25-16262ee38c7f 2018-12-05     DRUG_TYPE_1\n",
       "4  a0f9e8a9-1c7c-11ec-8d25-16262ee38c7f 2017-11-04  SYMPTOM_TYPE_0"
      ]
     },
     "execution_count": 36,
     "metadata": {},
     "output_type": "execute_result"
    }
   ],
   "source": [
    "test_df.head()"
   ]
  },
  {
   "cell_type": "code",
   "execution_count": 37,
   "id": "8396351e",
   "metadata": {},
   "outputs": [
    {
     "data": {
      "text/html": [
       "<div>\n",
       "<style scoped>\n",
       "    .dataframe tbody tr th:only-of-type {\n",
       "        vertical-align: middle;\n",
       "    }\n",
       "\n",
       "    .dataframe tbody tr th {\n",
       "        vertical-align: top;\n",
       "    }\n",
       "\n",
       "    .dataframe thead th {\n",
       "        text-align: right;\n",
       "    }\n",
       "</style>\n",
       "<table border=\"1\" class=\"dataframe\">\n",
       "  <thead>\n",
       "    <tr style=\"text-align: right;\">\n",
       "      <th></th>\n",
       "      <th>Patient-Uid</th>\n",
       "      <th>Date</th>\n",
       "      <th>Incident</th>\n",
       "    </tr>\n",
       "  </thead>\n",
       "  <tbody>\n",
       "    <tr>\n",
       "      <th>1372854</th>\n",
       "      <td>a10272c9-1c7c-11ec-b3ce-16262ee38c7f</td>\n",
       "      <td>2017-05-11</td>\n",
       "      <td>DRUG_TYPE_13</td>\n",
       "    </tr>\n",
       "    <tr>\n",
       "      <th>1372856</th>\n",
       "      <td>a10272c9-1c7c-11ec-b3ce-16262ee38c7f</td>\n",
       "      <td>2018-08-22</td>\n",
       "      <td>DRUG_TYPE_2</td>\n",
       "    </tr>\n",
       "    <tr>\n",
       "      <th>1372857</th>\n",
       "      <td>a10272c9-1c7c-11ec-b3ce-16262ee38c7f</td>\n",
       "      <td>2017-02-04</td>\n",
       "      <td>DRUG_TYPE_2</td>\n",
       "    </tr>\n",
       "    <tr>\n",
       "      <th>1372858</th>\n",
       "      <td>a10272c9-1c7c-11ec-b3ce-16262ee38c7f</td>\n",
       "      <td>2017-09-25</td>\n",
       "      <td>DRUG_TYPE_8</td>\n",
       "    </tr>\n",
       "    <tr>\n",
       "      <th>1372859</th>\n",
       "      <td>a10272c9-1c7c-11ec-b3ce-16262ee38c7f</td>\n",
       "      <td>2017-05-19</td>\n",
       "      <td>DRUG_TYPE_7</td>\n",
       "    </tr>\n",
       "  </tbody>\n",
       "</table>\n",
       "</div>"
      ],
      "text/plain": [
       "                                  Patient-Uid       Date      Incident\n",
       "1372854  a10272c9-1c7c-11ec-b3ce-16262ee38c7f 2017-05-11  DRUG_TYPE_13\n",
       "1372856  a10272c9-1c7c-11ec-b3ce-16262ee38c7f 2018-08-22   DRUG_TYPE_2\n",
       "1372857  a10272c9-1c7c-11ec-b3ce-16262ee38c7f 2017-02-04   DRUG_TYPE_2\n",
       "1372858  a10272c9-1c7c-11ec-b3ce-16262ee38c7f 2017-09-25   DRUG_TYPE_8\n",
       "1372859  a10272c9-1c7c-11ec-b3ce-16262ee38c7f 2017-05-19   DRUG_TYPE_7"
      ]
     },
     "execution_count": 37,
     "metadata": {},
     "output_type": "execute_result"
    }
   ],
   "source": [
    "test_df.tail()"
   ]
  },
  {
   "cell_type": "code",
   "execution_count": 38,
   "id": "f30f76a5",
   "metadata": {},
   "outputs": [
    {
     "data": {
      "text/plain": [
       "Index(['Patient-Uid', 'Date', 'Incident'], dtype='object')"
      ]
     },
     "execution_count": 38,
     "metadata": {},
     "output_type": "execute_result"
    }
   ],
   "source": [
    "#Columns in the dataset\n",
    "test_df.columns"
   ]
  },
  {
   "cell_type": "code",
   "execution_count": 39,
   "id": "6eb5df7f",
   "metadata": {},
   "outputs": [
    {
     "data": {
      "text/html": [
       "<div>\n",
       "<style scoped>\n",
       "    .dataframe tbody tr th:only-of-type {\n",
       "        vertical-align: middle;\n",
       "    }\n",
       "\n",
       "    .dataframe tbody tr th {\n",
       "        vertical-align: top;\n",
       "    }\n",
       "\n",
       "    .dataframe thead th {\n",
       "        text-align: right;\n",
       "    }\n",
       "</style>\n",
       "<table border=\"1\" class=\"dataframe\">\n",
       "  <thead>\n",
       "    <tr style=\"text-align: right;\">\n",
       "      <th></th>\n",
       "      <th>Date</th>\n",
       "    </tr>\n",
       "  </thead>\n",
       "  <tbody>\n",
       "    <tr>\n",
       "      <th>count</th>\n",
       "      <td>1065524</td>\n",
       "    </tr>\n",
       "    <tr>\n",
       "      <th>mean</th>\n",
       "      <td>2017-09-01 15:54:13.488799488</td>\n",
       "    </tr>\n",
       "    <tr>\n",
       "      <th>min</th>\n",
       "      <td>2015-04-07 00:00:00</td>\n",
       "    </tr>\n",
       "    <tr>\n",
       "      <th>25%</th>\n",
       "      <td>2016-07-26 00:00:00</td>\n",
       "    </tr>\n",
       "    <tr>\n",
       "      <th>50%</th>\n",
       "      <td>2017-09-11 00:00:00</td>\n",
       "    </tr>\n",
       "    <tr>\n",
       "      <th>75%</th>\n",
       "      <td>2018-09-26 00:00:00</td>\n",
       "    </tr>\n",
       "    <tr>\n",
       "      <th>max</th>\n",
       "      <td>2020-08-04 00:00:00</td>\n",
       "    </tr>\n",
       "  </tbody>\n",
       "</table>\n",
       "</div>"
      ],
      "text/plain": [
       "                                Date\n",
       "count                        1065524\n",
       "mean   2017-09-01 15:54:13.488799488\n",
       "min              2015-04-07 00:00:00\n",
       "25%              2016-07-26 00:00:00\n",
       "50%              2017-09-11 00:00:00\n",
       "75%              2018-09-26 00:00:00\n",
       "max              2020-08-04 00:00:00"
      ]
     },
     "execution_count": 39,
     "metadata": {},
     "output_type": "execute_result"
    }
   ],
   "source": [
    "#Descriptive statistics\n",
    "test_df.describe()"
   ]
  },
  {
   "cell_type": "code",
   "execution_count": 40,
   "id": "0118b56d",
   "metadata": {},
   "outputs": [
    {
     "data": {
      "text/plain": [
       "Patient-Uid    0\n",
       "Date           0\n",
       "Incident       0\n",
       "dtype: int64"
      ]
     },
     "execution_count": 40,
     "metadata": {},
     "output_type": "execute_result"
    }
   ],
   "source": [
    "#Data Cleaning - Missing Values\n",
    "test_df.isnull().sum()"
   ]
  },
  {
   "cell_type": "code",
   "execution_count": 41,
   "id": "cd86c92d",
   "metadata": {},
   "outputs": [
    {
     "data": {
      "text/plain": [
       "12100"
      ]
     },
     "execution_count": 41,
     "metadata": {},
     "output_type": "execute_result"
    }
   ],
   "source": [
    "#Finding Duplicate Values\n",
    "test_df.duplicated().sum()"
   ]
  },
  {
   "cell_type": "code",
   "execution_count": 42,
   "id": "9d4ae996",
   "metadata": {},
   "outputs": [],
   "source": [
    "#Remove duplicates\n",
    "test_df = test_df.drop_duplicates()"
   ]
  },
  {
   "cell_type": "code",
   "execution_count": 43,
   "id": "461ec3ef",
   "metadata": {},
   "outputs": [
    {
     "data": {
      "text/plain": [
       "0"
      ]
     },
     "execution_count": 43,
     "metadata": {},
     "output_type": "execute_result"
    }
   ],
   "source": [
    "#Checking for duplicate values\n",
    "test_df.duplicated().sum()"
   ]
  },
  {
   "cell_type": "code",
   "execution_count": 44,
   "id": "ab329889",
   "metadata": {},
   "outputs": [
    {
     "data": {
      "text/plain": [
       "Patient-Uid            object\n",
       "Date           datetime64[ns]\n",
       "Incident               object\n",
       "dtype: object"
      ]
     },
     "execution_count": 44,
     "metadata": {},
     "output_type": "execute_result"
    }
   ],
   "source": [
    "#Data Types\n",
    "test_df.dtypes"
   ]
  },
  {
   "cell_type": "code",
   "execution_count": 45,
   "id": "1107fb6c",
   "metadata": {},
   "outputs": [
    {
     "name": "stdout",
     "output_type": "stream",
     "text": [
      "Unique values of Incident \n",
      "\n",
      "['SYMPTOM_TYPE_0' 'DRUG_TYPE_0' 'DRUG_TYPE_2' 'DRUG_TYPE_1'\n",
      " 'PRIMARY_DIAGNOSIS' 'DRUG_TYPE_8' 'TEST_TYPE_0' 'DRUG_TYPE_7'\n",
      " 'DRUG_TYPE_11' 'SYMPTOM_TYPE_6' 'DRUG_TYPE_5' 'DRUG_TYPE_6' 'DRUG_TYPE_9'\n",
      " 'DRUG_TYPE_15' 'TEST_TYPE_3' 'SYMPTOM_TYPE_3' 'TEST_TYPE_1' 'DRUG_TYPE_3'\n",
      " 'TEST_TYPE_2' 'SYMPTOM_TYPE_7' 'DRUG_TYPE_12' 'SYMPTOM_TYPE_2'\n",
      " 'SYMPTOM_TYPE_10' 'SYMPTOM_TYPE_1' 'SYMPTOM_TYPE_17' 'SYMPTOM_TYPE_18'\n",
      " 'SYMPTOM_TYPE_5' 'SYMPTOM_TYPE_15' 'SYMPTOM_TYPE_9' 'SYMPTOM_TYPE_4'\n",
      " 'SYMPTOM_TYPE_8' 'SYMPTOM_TYPE_29' 'DRUG_TYPE_13' 'SYMPTOM_TYPE_21'\n",
      " 'DRUG_TYPE_4' 'SYMPTOM_TYPE_12' 'SYMPTOM_TYPE_11' 'SYMPTOM_TYPE_19'\n",
      " 'DRUG_TYPE_14' 'SYMPTOM_TYPE_16' 'TEST_TYPE_4' 'DRUG_TYPE_10'\n",
      " 'SYMPTOM_TYPE_26' 'SYMPTOM_TYPE_14' 'SYMPTOM_TYPE_24' 'DRUG_TYPE_16'\n",
      " 'SYMPTOM_TYPE_13' 'TEST_TYPE_5' 'SYMPTOM_TYPE_20' 'SYMPTOM_TYPE_25'\n",
      " 'SYMPTOM_TYPE_22' 'DRUG_TYPE_17' 'SYMPTOM_TYPE_27' 'SYMPTOM_TYPE_23'\n",
      " 'SYMPTOM_TYPE_28']\n"
     ]
    }
   ],
   "source": [
    "#Unique values of Incident\n",
    "print(\"Unique values of Incident \\n\")\n",
    "print(test_df['Incident'].unique())"
   ]
  },
  {
   "cell_type": "code",
   "execution_count": 46,
   "id": "314a29aa",
   "metadata": {},
   "outputs": [
    {
     "data": {
      "text/plain": [
       "Incident\n",
       "DRUG_TYPE_6          188401\n",
       "DRUG_TYPE_1          169089\n",
       "PRIMARY_DIAGNOSIS    127996\n",
       "DRUG_TYPE_0           90711\n",
       "DRUG_TYPE_2           90465\n",
       "DRUG_TYPE_7           90423\n",
       "DRUG_TYPE_8           55696\n",
       "DRUG_TYPE_3           40679\n",
       "TEST_TYPE_1           34274\n",
       "DRUG_TYPE_9           25294\n",
       "DRUG_TYPE_5           20045\n",
       "SYMPTOM_TYPE_0        17292\n",
       "DRUG_TYPE_11          16587\n",
       "SYMPTOM_TYPE_6        11536\n",
       "TEST_TYPE_0           10921\n",
       "SYMPTOM_TYPE_7         7943\n",
       "SYMPTOM_TYPE_5         5403\n",
       "DRUG_TYPE_14           4963\n",
       "DRUG_TYPE_10           4242\n",
       "DRUG_TYPE_13           4059\n",
       "SYMPTOM_TYPE_1         2955\n",
       "DRUG_TYPE_12           2823\n",
       "SYMPTOM_TYPE_2         2772\n",
       "TEST_TYPE_3            2709\n",
       "SYMPTOM_TYPE_8         2683\n",
       "TEST_TYPE_2            2524\n",
       "SYMPTOM_TYPE_14        2482\n",
       "DRUG_TYPE_4            1840\n",
       "SYMPTOM_TYPE_15        1818\n",
       "SYMPTOM_TYPE_10        1783\n",
       "SYMPTOM_TYPE_29        1697\n",
       "SYMPTOM_TYPE_9         1689\n",
       "SYMPTOM_TYPE_16        1576\n",
       "DRUG_TYPE_15           1373\n",
       "SYMPTOM_TYPE_4         1315\n",
       "SYMPTOM_TYPE_3          968\n",
       "SYMPTOM_TYPE_12         935\n",
       "SYMPTOM_TYPE_11         776\n",
       "SYMPTOM_TYPE_17         714\n",
       "SYMPTOM_TYPE_13         531\n",
       "DRUG_TYPE_16            424\n",
       "TEST_TYPE_4             377\n",
       "SYMPTOM_TYPE_18         164\n",
       "SYMPTOM_TYPE_22         114\n",
       "SYMPTOM_TYPE_21         110\n",
       "SYMPTOM_TYPE_19          70\n",
       "SYMPTOM_TYPE_24          46\n",
       "TEST_TYPE_5              40\n",
       "SYMPTOM_TYPE_20          27\n",
       "SYMPTOM_TYPE_23          21\n",
       "SYMPTOM_TYPE_26          19\n",
       "SYMPTOM_TYPE_28          10\n",
       "DRUG_TYPE_17              8\n",
       "SYMPTOM_TYPE_27           8\n",
       "SYMPTOM_TYPE_25           4\n",
       "Name: count, dtype: int64"
      ]
     },
     "execution_count": 46,
     "metadata": {},
     "output_type": "execute_result"
    }
   ],
   "source": [
    "#Exploring the dataset\n",
    "#Counts for each Incident\n",
    "test_df.Incident.value_counts()"
   ]
  },
  {
   "cell_type": "code",
   "execution_count": 47,
   "id": "a51f4c95",
   "metadata": {},
   "outputs": [
    {
     "data": {
      "text/html": [
       "<div>\n",
       "<style scoped>\n",
       "    .dataframe tbody tr th:only-of-type {\n",
       "        vertical-align: middle;\n",
       "    }\n",
       "\n",
       "    .dataframe tbody tr th {\n",
       "        vertical-align: top;\n",
       "    }\n",
       "\n",
       "    .dataframe thead th {\n",
       "        text-align: right;\n",
       "    }\n",
       "</style>\n",
       "<table border=\"1\" class=\"dataframe\">\n",
       "  <thead>\n",
       "    <tr style=\"text-align: right;\">\n",
       "      <th></th>\n",
       "      <th>Patient-Uid</th>\n",
       "      <th>Date</th>\n",
       "      <th>Incident</th>\n",
       "    </tr>\n",
       "  </thead>\n",
       "  <tbody>\n",
       "  </tbody>\n",
       "</table>\n",
       "</div>"
      ],
      "text/plain": [
       "Empty DataFrame\n",
       "Columns: [Patient-Uid, Date, Incident]\n",
       "Index: []"
      ]
     },
     "execution_count": 47,
     "metadata": {},
     "output_type": "execute_result"
    }
   ],
   "source": [
    "#Generate the positive set\n",
    "positive_df = test_df[test_df['Incident'] == 'TARGET DRUG']\n",
    "positive_df.head()"
   ]
  },
  {
   "cell_type": "code",
   "execution_count": 48,
   "id": "f98e2bd6",
   "metadata": {},
   "outputs": [
    {
     "data": {
      "text/plain": [
       "(0, 3)"
      ]
     },
     "execution_count": 48,
     "metadata": {},
     "output_type": "execute_result"
    }
   ],
   "source": [
    "#Shape of positive set\n",
    "positive_df.shape"
   ]
  },
  {
   "cell_type": "code",
   "execution_count": 49,
   "id": "b85c3c79",
   "metadata": {},
   "outputs": [
    {
     "data": {
      "text/html": [
       "<div>\n",
       "<style scoped>\n",
       "    .dataframe tbody tr th:only-of-type {\n",
       "        vertical-align: middle;\n",
       "    }\n",
       "\n",
       "    .dataframe tbody tr th {\n",
       "        vertical-align: top;\n",
       "    }\n",
       "\n",
       "    .dataframe thead th {\n",
       "        text-align: right;\n",
       "    }\n",
       "</style>\n",
       "<table border=\"1\" class=\"dataframe\">\n",
       "  <thead>\n",
       "    <tr style=\"text-align: right;\">\n",
       "      <th></th>\n",
       "      <th>Patient-Uid</th>\n",
       "      <th>Date</th>\n",
       "      <th>Incident</th>\n",
       "    </tr>\n",
       "  </thead>\n",
       "  <tbody>\n",
       "    <tr>\n",
       "      <th>57</th>\n",
       "      <td>a0f9e8a9-1c7c-11ec-8d25-16262ee38c7f</td>\n",
       "      <td>2017-12-01</td>\n",
       "      <td>TEST_TYPE_0</td>\n",
       "    </tr>\n",
       "    <tr>\n",
       "      <th>208</th>\n",
       "      <td>a0f9e9f9-1c7c-11ec-b565-16262ee38c7f</td>\n",
       "      <td>2016-06-22</td>\n",
       "      <td>DRUG_TYPE_9</td>\n",
       "    </tr>\n",
       "    <tr>\n",
       "      <th>305</th>\n",
       "      <td>a0f9ea43-1c7c-11ec-aa10-16262ee38c7f</td>\n",
       "      <td>2019-07-21</td>\n",
       "      <td>DRUG_TYPE_6</td>\n",
       "    </tr>\n",
       "    <tr>\n",
       "      <th>420</th>\n",
       "      <td>a0f9ea7c-1c7c-11ec-af15-16262ee38c7f</td>\n",
       "      <td>2016-06-15</td>\n",
       "      <td>DRUG_TYPE_6</td>\n",
       "    </tr>\n",
       "    <tr>\n",
       "      <th>497</th>\n",
       "      <td>a0f9eab1-1c7c-11ec-a732-16262ee38c7f</td>\n",
       "      <td>2018-11-22</td>\n",
       "      <td>DRUG_TYPE_6</td>\n",
       "    </tr>\n",
       "    <tr>\n",
       "      <th>...</th>\n",
       "      <td>...</td>\n",
       "      <td>...</td>\n",
       "      <td>...</td>\n",
       "    </tr>\n",
       "    <tr>\n",
       "      <th>1372381</th>\n",
       "      <td>a102720c-1c7c-11ec-bd9a-16262ee38c7f</td>\n",
       "      <td>2020-01-07</td>\n",
       "      <td>DRUG_TYPE_6</td>\n",
       "    </tr>\n",
       "    <tr>\n",
       "      <th>1372432</th>\n",
       "      <td>a102723c-1c7c-11ec-9f80-16262ee38c7f</td>\n",
       "      <td>2019-07-06</td>\n",
       "      <td>DRUG_TYPE_3</td>\n",
       "    </tr>\n",
       "    <tr>\n",
       "      <th>1372543</th>\n",
       "      <td>a102726b-1c7c-11ec-bfbf-16262ee38c7f</td>\n",
       "      <td>2018-12-31</td>\n",
       "      <td>DRUG_TYPE_0</td>\n",
       "    </tr>\n",
       "    <tr>\n",
       "      <th>1372607</th>\n",
       "      <td>a102729b-1c7c-11ec-86ba-16262ee38c7f</td>\n",
       "      <td>2019-04-02</td>\n",
       "      <td>DRUG_TYPE_3</td>\n",
       "    </tr>\n",
       "    <tr>\n",
       "      <th>1372859</th>\n",
       "      <td>a10272c9-1c7c-11ec-b3ce-16262ee38c7f</td>\n",
       "      <td>2017-05-19</td>\n",
       "      <td>DRUG_TYPE_7</td>\n",
       "    </tr>\n",
       "  </tbody>\n",
       "</table>\n",
       "<p>11482 rows × 3 columns</p>\n",
       "</div>"
      ],
      "text/plain": [
       "                                  Patient-Uid       Date     Incident\n",
       "57       a0f9e8a9-1c7c-11ec-8d25-16262ee38c7f 2017-12-01  TEST_TYPE_0\n",
       "208      a0f9e9f9-1c7c-11ec-b565-16262ee38c7f 2016-06-22  DRUG_TYPE_9\n",
       "305      a0f9ea43-1c7c-11ec-aa10-16262ee38c7f 2019-07-21  DRUG_TYPE_6\n",
       "420      a0f9ea7c-1c7c-11ec-af15-16262ee38c7f 2016-06-15  DRUG_TYPE_6\n",
       "497      a0f9eab1-1c7c-11ec-a732-16262ee38c7f 2018-11-22  DRUG_TYPE_6\n",
       "...                                       ...        ...          ...\n",
       "1372381  a102720c-1c7c-11ec-bd9a-16262ee38c7f 2020-01-07  DRUG_TYPE_6\n",
       "1372432  a102723c-1c7c-11ec-9f80-16262ee38c7f 2019-07-06  DRUG_TYPE_3\n",
       "1372543  a102726b-1c7c-11ec-bfbf-16262ee38c7f 2018-12-31  DRUG_TYPE_0\n",
       "1372607  a102729b-1c7c-11ec-86ba-16262ee38c7f 2019-04-02  DRUG_TYPE_3\n",
       "1372859  a10272c9-1c7c-11ec-b3ce-16262ee38c7f 2017-05-19  DRUG_TYPE_7\n",
       "\n",
       "[11482 rows x 3 columns]"
      ]
     },
     "execution_count": 49,
     "metadata": {},
     "output_type": "execute_result"
    }
   ],
   "source": [
    "#Generate the negative set\n",
    "negative = test_df[~test_df['Patient-Uid'].isin(positive_df['Patient-Uid'])]\n",
    "negative_df = negative.groupby('Patient-Uid').tail(1)\n",
    "negative_df"
   ]
  },
  {
   "cell_type": "code",
   "execution_count": 50,
   "id": "fb736010",
   "metadata": {},
   "outputs": [
    {
     "data": {
      "text/plain": [
       "(11482, 3)"
      ]
     },
     "execution_count": 50,
     "metadata": {},
     "output_type": "execute_result"
    }
   ],
   "source": [
    "#Shape of the negative set\n",
    "negative_df.shape"
   ]
  },
  {
   "cell_type": "code",
   "execution_count": 51,
   "id": "c317eac3",
   "metadata": {},
   "outputs": [
    {
     "data": {
      "text/html": [
       "<div>\n",
       "<style scoped>\n",
       "    .dataframe tbody tr th:only-of-type {\n",
       "        vertical-align: middle;\n",
       "    }\n",
       "\n",
       "    .dataframe tbody tr th {\n",
       "        vertical-align: top;\n",
       "    }\n",
       "\n",
       "    .dataframe thead th {\n",
       "        text-align: right;\n",
       "    }\n",
       "</style>\n",
       "<table border=\"1\" class=\"dataframe\">\n",
       "  <thead>\n",
       "    <tr style=\"text-align: right;\">\n",
       "      <th></th>\n",
       "      <th>Patient-Uid</th>\n",
       "      <th>Date</th>\n",
       "      <th>Incident</th>\n",
       "      <th>Prescription_Count</th>\n",
       "    </tr>\n",
       "  </thead>\n",
       "  <tbody>\n",
       "  </tbody>\n",
       "</table>\n",
       "</div>"
      ],
      "text/plain": [
       "Empty DataFrame\n",
       "Columns: [Patient-Uid, Date, Incident, Prescription_Count]\n",
       "Index: []"
      ]
     },
     "execution_count": 51,
     "metadata": {},
     "output_type": "execute_result"
    }
   ],
   "source": [
    "#Calculate prescription counts within specific time intervals\n",
    "positive_df['Prescription_Count'] = positive_df.groupby('Patient-Uid')['Date'].cumcount()\n",
    "negative_df['Prescription_Count'] = negative_df.groupby('Patient-Uid')['Date'].cumcount()\n",
    "positive_df.tail(5)"
   ]
  },
  {
   "cell_type": "code",
   "execution_count": 52,
   "id": "3b3261e0",
   "metadata": {},
   "outputs": [
    {
     "data": {
      "text/html": [
       "<div>\n",
       "<style scoped>\n",
       "    .dataframe tbody tr th:only-of-type {\n",
       "        vertical-align: middle;\n",
       "    }\n",
       "\n",
       "    .dataframe tbody tr th {\n",
       "        vertical-align: top;\n",
       "    }\n",
       "\n",
       "    .dataframe thead th {\n",
       "        text-align: right;\n",
       "    }\n",
       "</style>\n",
       "<table border=\"1\" class=\"dataframe\">\n",
       "  <thead>\n",
       "    <tr style=\"text-align: right;\">\n",
       "      <th></th>\n",
       "      <th>Patient-Uid</th>\n",
       "      <th>Date</th>\n",
       "      <th>Incident</th>\n",
       "      <th>Prescription_Count</th>\n",
       "    </tr>\n",
       "  </thead>\n",
       "  <tbody>\n",
       "    <tr>\n",
       "      <th>1372381</th>\n",
       "      <td>a102720c-1c7c-11ec-bd9a-16262ee38c7f</td>\n",
       "      <td>2020-01-07</td>\n",
       "      <td>DRUG_TYPE_6</td>\n",
       "      <td>0</td>\n",
       "    </tr>\n",
       "    <tr>\n",
       "      <th>1372432</th>\n",
       "      <td>a102723c-1c7c-11ec-9f80-16262ee38c7f</td>\n",
       "      <td>2019-07-06</td>\n",
       "      <td>DRUG_TYPE_3</td>\n",
       "      <td>0</td>\n",
       "    </tr>\n",
       "    <tr>\n",
       "      <th>1372543</th>\n",
       "      <td>a102726b-1c7c-11ec-bfbf-16262ee38c7f</td>\n",
       "      <td>2018-12-31</td>\n",
       "      <td>DRUG_TYPE_0</td>\n",
       "      <td>0</td>\n",
       "    </tr>\n",
       "    <tr>\n",
       "      <th>1372607</th>\n",
       "      <td>a102729b-1c7c-11ec-86ba-16262ee38c7f</td>\n",
       "      <td>2019-04-02</td>\n",
       "      <td>DRUG_TYPE_3</td>\n",
       "      <td>0</td>\n",
       "    </tr>\n",
       "    <tr>\n",
       "      <th>1372859</th>\n",
       "      <td>a10272c9-1c7c-11ec-b3ce-16262ee38c7f</td>\n",
       "      <td>2017-05-19</td>\n",
       "      <td>DRUG_TYPE_7</td>\n",
       "      <td>0</td>\n",
       "    </tr>\n",
       "  </tbody>\n",
       "</table>\n",
       "</div>"
      ],
      "text/plain": [
       "                                  Patient-Uid       Date     Incident  \\\n",
       "1372381  a102720c-1c7c-11ec-bd9a-16262ee38c7f 2020-01-07  DRUG_TYPE_6   \n",
       "1372432  a102723c-1c7c-11ec-9f80-16262ee38c7f 2019-07-06  DRUG_TYPE_3   \n",
       "1372543  a102726b-1c7c-11ec-bfbf-16262ee38c7f 2018-12-31  DRUG_TYPE_0   \n",
       "1372607  a102729b-1c7c-11ec-86ba-16262ee38c7f 2019-04-02  DRUG_TYPE_3   \n",
       "1372859  a10272c9-1c7c-11ec-b3ce-16262ee38c7f 2017-05-19  DRUG_TYPE_7   \n",
       "\n",
       "         Prescription_Count  \n",
       "1372381                   0  \n",
       "1372432                   0  \n",
       "1372543                   0  \n",
       "1372607                   0  \n",
       "1372859                   0  "
      ]
     },
     "execution_count": 52,
     "metadata": {},
     "output_type": "execute_result"
    }
   ],
   "source": [
    "negative_df.tail()"
   ]
  },
  {
   "cell_type": "code",
   "execution_count": 53,
   "id": "3af032f2",
   "metadata": {},
   "outputs": [],
   "source": [
    "#Calculate the difference between the most recent prescription and the prediction date\n",
    "prediction_date = pd.to_datetime('today') + pd.DateOffset(days=30)\n",
    "positive_df['Time_diff'] = (prediction_date - positive_df.groupby('Patient-Uid')['Date'].transform('max')).dt.days\n",
    "negative_df['Time_diff'] = (prediction_date - negative_df.groupby('Patient-Uid')['Date'].transform('max')).dt.days"
   ]
  },
  {
   "cell_type": "code",
   "execution_count": 54,
   "id": "8e6913c8",
   "metadata": {},
   "outputs": [
    {
     "data": {
      "text/html": [
       "<div>\n",
       "<style scoped>\n",
       "    .dataframe tbody tr th:only-of-type {\n",
       "        vertical-align: middle;\n",
       "    }\n",
       "\n",
       "    .dataframe tbody tr th {\n",
       "        vertical-align: top;\n",
       "    }\n",
       "\n",
       "    .dataframe thead th {\n",
       "        text-align: right;\n",
       "    }\n",
       "</style>\n",
       "<table border=\"1\" class=\"dataframe\">\n",
       "  <thead>\n",
       "    <tr style=\"text-align: right;\">\n",
       "      <th></th>\n",
       "      <th>Patient-Uid</th>\n",
       "      <th>Date</th>\n",
       "      <th>Incident</th>\n",
       "      <th>Prescription_Count</th>\n",
       "      <th>Time_diff</th>\n",
       "    </tr>\n",
       "  </thead>\n",
       "  <tbody>\n",
       "  </tbody>\n",
       "</table>\n",
       "</div>"
      ],
      "text/plain": [
       "Empty DataFrame\n",
       "Columns: [Patient-Uid, Date, Incident, Prescription_Count, Time_diff]\n",
       "Index: []"
      ]
     },
     "execution_count": 54,
     "metadata": {},
     "output_type": "execute_result"
    }
   ],
   "source": [
    "positive_df.head()"
   ]
  },
  {
   "cell_type": "code",
   "execution_count": 55,
   "id": "eb78ad78",
   "metadata": {},
   "outputs": [
    {
     "data": {
      "text/html": [
       "<div>\n",
       "<style scoped>\n",
       "    .dataframe tbody tr th:only-of-type {\n",
       "        vertical-align: middle;\n",
       "    }\n",
       "\n",
       "    .dataframe tbody tr th {\n",
       "        vertical-align: top;\n",
       "    }\n",
       "\n",
       "    .dataframe thead th {\n",
       "        text-align: right;\n",
       "    }\n",
       "</style>\n",
       "<table border=\"1\" class=\"dataframe\">\n",
       "  <thead>\n",
       "    <tr style=\"text-align: right;\">\n",
       "      <th></th>\n",
       "      <th>Patient-Uid</th>\n",
       "      <th>Date</th>\n",
       "      <th>Incident</th>\n",
       "      <th>Prescription_Count</th>\n",
       "      <th>Time_diff</th>\n",
       "    </tr>\n",
       "  </thead>\n",
       "  <tbody>\n",
       "    <tr>\n",
       "      <th>57</th>\n",
       "      <td>a0f9e8a9-1c7c-11ec-8d25-16262ee38c7f</td>\n",
       "      <td>2017-12-01</td>\n",
       "      <td>TEST_TYPE_0</td>\n",
       "      <td>0</td>\n",
       "      <td>2184</td>\n",
       "    </tr>\n",
       "    <tr>\n",
       "      <th>208</th>\n",
       "      <td>a0f9e9f9-1c7c-11ec-b565-16262ee38c7f</td>\n",
       "      <td>2016-06-22</td>\n",
       "      <td>DRUG_TYPE_9</td>\n",
       "      <td>0</td>\n",
       "      <td>2711</td>\n",
       "    </tr>\n",
       "    <tr>\n",
       "      <th>305</th>\n",
       "      <td>a0f9ea43-1c7c-11ec-aa10-16262ee38c7f</td>\n",
       "      <td>2019-07-21</td>\n",
       "      <td>DRUG_TYPE_6</td>\n",
       "      <td>0</td>\n",
       "      <td>1587</td>\n",
       "    </tr>\n",
       "    <tr>\n",
       "      <th>420</th>\n",
       "      <td>a0f9ea7c-1c7c-11ec-af15-16262ee38c7f</td>\n",
       "      <td>2016-06-15</td>\n",
       "      <td>DRUG_TYPE_6</td>\n",
       "      <td>0</td>\n",
       "      <td>2718</td>\n",
       "    </tr>\n",
       "    <tr>\n",
       "      <th>497</th>\n",
       "      <td>a0f9eab1-1c7c-11ec-a732-16262ee38c7f</td>\n",
       "      <td>2018-11-22</td>\n",
       "      <td>DRUG_TYPE_6</td>\n",
       "      <td>0</td>\n",
       "      <td>1828</td>\n",
       "    </tr>\n",
       "  </tbody>\n",
       "</table>\n",
       "</div>"
      ],
      "text/plain": [
       "                              Patient-Uid       Date     Incident  \\\n",
       "57   a0f9e8a9-1c7c-11ec-8d25-16262ee38c7f 2017-12-01  TEST_TYPE_0   \n",
       "208  a0f9e9f9-1c7c-11ec-b565-16262ee38c7f 2016-06-22  DRUG_TYPE_9   \n",
       "305  a0f9ea43-1c7c-11ec-aa10-16262ee38c7f 2019-07-21  DRUG_TYPE_6   \n",
       "420  a0f9ea7c-1c7c-11ec-af15-16262ee38c7f 2016-06-15  DRUG_TYPE_6   \n",
       "497  a0f9eab1-1c7c-11ec-a732-16262ee38c7f 2018-11-22  DRUG_TYPE_6   \n",
       "\n",
       "     Prescription_Count  Time_diff  \n",
       "57                    0       2184  \n",
       "208                   0       2711  \n",
       "305                   0       1587  \n",
       "420                   0       2718  \n",
       "497                   0       1828  "
      ]
     },
     "execution_count": 55,
     "metadata": {},
     "output_type": "execute_result"
    }
   ],
   "source": [
    "#Create a new dataset by concatenating positive and negative sets\n",
    "new_df = pd.concat([positive_df, negative_df])\n",
    "new_df.head()"
   ]
  },
  {
   "cell_type": "code",
   "execution_count": 56,
   "id": "a88bdcaf",
   "metadata": {},
   "outputs": [
    {
     "data": {
      "text/plain": [
       "(11482, 5)"
      ]
     },
     "execution_count": 56,
     "metadata": {},
     "output_type": "execute_result"
    }
   ],
   "source": [
    "new_df.shape"
   ]
  },
  {
   "cell_type": "code",
   "execution_count": 57,
   "id": "0ec486d6",
   "metadata": {},
   "outputs": [
    {
     "name": "stdout",
     "output_type": "stream",
     "text": [
      "Index(['Patient-Uid', 'Date', 'Incident'], dtype='object')\n"
     ]
    }
   ],
   "source": [
    "#Verify the column names in the DataFrame\n",
    "print(test_df.columns)"
   ]
  },
  {
   "cell_type": "code",
   "execution_count": 58,
   "id": "dde2d44c",
   "metadata": {},
   "outputs": [],
   "source": [
    "train_df.drop_duplicates(inplace=True)"
   ]
  },
  {
   "cell_type": "code",
   "execution_count": 59,
   "id": "9f504603",
   "metadata": {},
   "outputs": [
    {
     "data": {
      "text/html": [
       "<style>#sk-container-id-2 {color: black;}#sk-container-id-2 pre{padding: 0;}#sk-container-id-2 div.sk-toggleable {background-color: white;}#sk-container-id-2 label.sk-toggleable__label {cursor: pointer;display: block;width: 100%;margin-bottom: 0;padding: 0.3em;box-sizing: border-box;text-align: center;}#sk-container-id-2 label.sk-toggleable__label-arrow:before {content: \"▸\";float: left;margin-right: 0.25em;color: #696969;}#sk-container-id-2 label.sk-toggleable__label-arrow:hover:before {color: black;}#sk-container-id-2 div.sk-estimator:hover label.sk-toggleable__label-arrow:before {color: black;}#sk-container-id-2 div.sk-toggleable__content {max-height: 0;max-width: 0;overflow: hidden;text-align: left;background-color: #f0f8ff;}#sk-container-id-2 div.sk-toggleable__content pre {margin: 0.2em;color: black;border-radius: 0.25em;background-color: #f0f8ff;}#sk-container-id-2 input.sk-toggleable__control:checked~div.sk-toggleable__content {max-height: 200px;max-width: 100%;overflow: auto;}#sk-container-id-2 input.sk-toggleable__control:checked~label.sk-toggleable__label-arrow:before {content: \"▾\";}#sk-container-id-2 div.sk-estimator input.sk-toggleable__control:checked~label.sk-toggleable__label {background-color: #d4ebff;}#sk-container-id-2 div.sk-label input.sk-toggleable__control:checked~label.sk-toggleable__label {background-color: #d4ebff;}#sk-container-id-2 input.sk-hidden--visually {border: 0;clip: rect(1px 1px 1px 1px);clip: rect(1px, 1px, 1px, 1px);height: 1px;margin: -1px;overflow: hidden;padding: 0;position: absolute;width: 1px;}#sk-container-id-2 div.sk-estimator {font-family: monospace;background-color: #f0f8ff;border: 1px dotted black;border-radius: 0.25em;box-sizing: border-box;margin-bottom: 0.5em;}#sk-container-id-2 div.sk-estimator:hover {background-color: #d4ebff;}#sk-container-id-2 div.sk-parallel-item::after {content: \"\";width: 100%;border-bottom: 1px solid gray;flex-grow: 1;}#sk-container-id-2 div.sk-label:hover label.sk-toggleable__label {background-color: #d4ebff;}#sk-container-id-2 div.sk-serial::before {content: \"\";position: absolute;border-left: 1px solid gray;box-sizing: border-box;top: 0;bottom: 0;left: 50%;z-index: 0;}#sk-container-id-2 div.sk-serial {display: flex;flex-direction: column;align-items: center;background-color: white;padding-right: 0.2em;padding-left: 0.2em;position: relative;}#sk-container-id-2 div.sk-item {position: relative;z-index: 1;}#sk-container-id-2 div.sk-parallel {display: flex;align-items: stretch;justify-content: center;background-color: white;position: relative;}#sk-container-id-2 div.sk-item::before, #sk-container-id-2 div.sk-parallel-item::before {content: \"\";position: absolute;border-left: 1px solid gray;box-sizing: border-box;top: 0;bottom: 0;left: 50%;z-index: -1;}#sk-container-id-2 div.sk-parallel-item {display: flex;flex-direction: column;z-index: 1;position: relative;background-color: white;}#sk-container-id-2 div.sk-parallel-item:first-child::after {align-self: flex-end;width: 50%;}#sk-container-id-2 div.sk-parallel-item:last-child::after {align-self: flex-start;width: 50%;}#sk-container-id-2 div.sk-parallel-item:only-child::after {width: 0;}#sk-container-id-2 div.sk-dashed-wrapped {border: 1px dashed gray;margin: 0 0.4em 0.5em 0.4em;box-sizing: border-box;padding-bottom: 0.4em;background-color: white;}#sk-container-id-2 div.sk-label label {font-family: monospace;font-weight: bold;display: inline-block;line-height: 1.2em;}#sk-container-id-2 div.sk-label-container {text-align: center;}#sk-container-id-2 div.sk-container {/* jupyter's `normalize.less` sets `[hidden] { display: none; }` but bootstrap.min.css set `[hidden] { display: none !important; }` so we also need the `!important` here to be able to override the default hidden behavior on the sphinx rendered scikit-learn.org. See: https://github.com/scikit-learn/scikit-learn/issues/21755 */display: inline-block !important;position: relative;}#sk-container-id-2 div.sk-text-repr-fallback {display: none;}</style><div id=\"sk-container-id-2\" class=\"sk-top-container\"><div class=\"sk-text-repr-fallback\"><pre>XGBClassifier(base_score=None, booster=None, callbacks=None,\n",
       "              colsample_bylevel=None, colsample_bynode=None,\n",
       "              colsample_bytree=None, device=None, early_stopping_rounds=None,\n",
       "              enable_categorical=False, eval_metric=None, feature_types=None,\n",
       "              gamma=None, grow_policy=None, importance_type=None,\n",
       "              interaction_constraints=None, learning_rate=None, max_bin=None,\n",
       "              max_cat_threshold=None, max_cat_to_onehot=None,\n",
       "              max_delta_step=None, max_depth=None, max_leaves=None,\n",
       "              min_child_weight=None, missing=nan, monotone_constraints=None,\n",
       "              multi_strategy=None, n_estimators=None, n_jobs=None,\n",
       "              num_parallel_tree=None, random_state=None, ...)</pre><b>In a Jupyter environment, please rerun this cell to show the HTML representation or trust the notebook. <br />On GitHub, the HTML representation is unable to render, please try loading this page with nbviewer.org.</b></div><div class=\"sk-container\" hidden><div class=\"sk-item\"><div class=\"sk-estimator sk-toggleable\"><input class=\"sk-toggleable__control sk-hidden--visually\" id=\"sk-estimator-id-2\" type=\"checkbox\" checked><label for=\"sk-estimator-id-2\" class=\"sk-toggleable__label sk-toggleable__label-arrow\">XGBClassifier</label><div class=\"sk-toggleable__content\"><pre>XGBClassifier(base_score=None, booster=None, callbacks=None,\n",
       "              colsample_bylevel=None, colsample_bynode=None,\n",
       "              colsample_bytree=None, device=None, early_stopping_rounds=None,\n",
       "              enable_categorical=False, eval_metric=None, feature_types=None,\n",
       "              gamma=None, grow_policy=None, importance_type=None,\n",
       "              interaction_constraints=None, learning_rate=None, max_bin=None,\n",
       "              max_cat_threshold=None, max_cat_to_onehot=None,\n",
       "              max_delta_step=None, max_depth=None, max_leaves=None,\n",
       "              min_child_weight=None, missing=nan, monotone_constraints=None,\n",
       "              multi_strategy=None, n_estimators=None, n_jobs=None,\n",
       "              num_parallel_tree=None, random_state=None, ...)</pre></div></div></div></div></div>"
      ],
      "text/plain": [
       "XGBClassifier(base_score=None, booster=None, callbacks=None,\n",
       "              colsample_bylevel=None, colsample_bynode=None,\n",
       "              colsample_bytree=None, device=None, early_stopping_rounds=None,\n",
       "              enable_categorical=False, eval_metric=None, feature_types=None,\n",
       "              gamma=None, grow_policy=None, importance_type=None,\n",
       "              interaction_constraints=None, learning_rate=None, max_bin=None,\n",
       "              max_cat_threshold=None, max_cat_to_onehot=None,\n",
       "              max_delta_step=None, max_depth=None, max_leaves=None,\n",
       "              min_child_weight=None, missing=nan, monotone_constraints=None,\n",
       "              multi_strategy=None, n_estimators=None, n_jobs=None,\n",
       "              num_parallel_tree=None, random_state=None, ...)"
      ]
     },
     "execution_count": 59,
     "metadata": {},
     "output_type": "execute_result"
    }
   ],
   "source": [
    "#Assuming you have X_train and y_train as your training data\n",
    "xgb_classifier = xgb.XGBClassifier()\n",
    "xgb_classifier.fit(X_train, y_train)"
   ]
  },
  {
   "cell_type": "code",
   "execution_count": 60,
   "id": "9ae47664",
   "metadata": {},
   "outputs": [],
   "source": [
    "#Assuming the test data is loaded into test_df as shown earlier\n",
    "\n",
    "#Calculate Prescription Count for test data\n",
    "test_df['Prescription_Count'] = test_df.groupby('Patient-Uid')['Date'].cumcount()"
   ]
  },
  {
   "cell_type": "code",
   "execution_count": 61,
   "id": "0fa588bf",
   "metadata": {},
   "outputs": [],
   "source": [
    "#Calculate Time Difference for test data\n",
    "test_df['Time_diff'] = (prediction_date - test_df.groupby('Patient-Uid')['Date'].transform('max')).dt.days"
   ]
  },
  {
   "cell_type": "code",
   "execution_count": 62,
   "id": "6d8c5aaf",
   "metadata": {},
   "outputs": [],
   "source": [
    "#Select the features for prediction\n",
    "X_submission = test_df[['Prescription_Count', 'Time_diff']]"
   ]
  },
  {
   "cell_type": "code",
   "execution_count": 63,
   "id": "f5786f80",
   "metadata": {},
   "outputs": [],
   "source": [
    "#Make predictions on the test data\n",
    "submission_predictions = xgb_classifier.predict(X_submission)"
   ]
  },
  {
   "cell_type": "code",
   "execution_count": 64,
   "id": "260c4aa9",
   "metadata": {},
   "outputs": [],
   "source": [
    "#Create a DataFrame for the final submission\n",
    "final_submission_df = test_df[['Patient-Uid', 'Date', 'Incident']].copy()\n",
    "final_submission_df['Prediction'] = submission_predictions.astype(int)"
   ]
  },
  {
   "cell_type": "code",
   "execution_count": 65,
   "id": "6701dc7c",
   "metadata": {},
   "outputs": [],
   "source": [
    "#Save the final submission DataFrame to a CSV file\n",
    "final_submission_df.to_csv('final_submission.csv', index=False)"
   ]
  },
  {
   "cell_type": "markdown",
   "id": "56cd5af3",
   "metadata": {},
   "source": [
    "### ___THE END___"
   ]
  },
  {
   "cell_type": "code",
   "execution_count": null,
   "id": "b36511ed",
   "metadata": {},
   "outputs": [],
   "source": []
  },
  {
   "cell_type": "code",
   "execution_count": null,
   "id": "bd9d8d34",
   "metadata": {},
   "outputs": [],
   "source": []
  }
 ],
 "metadata": {
  "kernelspec": {
   "display_name": "Python 3 (ipykernel)",
   "language": "python",
   "name": "python3"
  },
  "language_info": {
   "codemirror_mode": {
    "name": "ipython",
    "version": 3
   },
   "file_extension": ".py",
   "mimetype": "text/x-python",
   "name": "python",
   "nbconvert_exporter": "python",
   "pygments_lexer": "ipython3",
   "version": "3.11.5"
  }
 },
 "nbformat": 4,
 "nbformat_minor": 5
}
